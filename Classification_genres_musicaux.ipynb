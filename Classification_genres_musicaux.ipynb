{
 "cells": [
  {
   "cell_type": "code",
   "execution_count": 2,
   "metadata": {},
   "outputs": [],
   "source": [
    "import numpy as np\n",
    "import pandas as pd\n",
    "import os\n",
    "from scipy import stats\n",
    "import sklearn \n",
    "from sklearn.neighbors import KNeighborsClassifier\n",
    "from sklearn.linear_model import LogisticRegression\n",
    "from sklearn.naive_bayes import GaussianNB\n",
    "from sklearn.svm import SVC\n",
    "from sklearn.tree import DecisionTreeClassifier\n",
    "from sklearn.ensemble import RandomForestClassifier, ExtraTreesClassifier, VotingClassifier, AdaBoostClassifier, BaggingRegressor\n",
    "from sklearn.model_selection import train_test_split, cross_val_score, StratifiedKFold\n",
    "from sklearn.metrics import confusion_matrix, accuracy_score, roc_auc_score, roc_curve, precision_score, recall_score, precision_recall_curve,f1_score"
   ]
  },
  {
   "cell_type": "markdown",
   "metadata": {},
   "source": [
    "### Première observation et statistiques descriptique des bases"
   ]
  },
  {
   "cell_type": "markdown",
   "metadata": {},
   "source": [
    "Nous avons scrappé 15399 morceaux, dont les features ont été séparés en 3 bases distinctes. La première df_track regroupe l'id, le titre et genre du morceaux ainsi que des caractéristiques comme son \"énergie\" (sorte de note entre 0 et 1), son tempo, sa durée etc. Nous avons notamment scrappé 1711 morceaux pour chacun des 9 genres différents. (nous avons réalisé un autre notebook pour le scrapping des données, que nous fusionneront plus tard).\n",
    "Le seconde, df_pitches regroupe l'id et les 125 premiers chromagrammes de ces morceaux : un chromagramme est un vecteur de 12 coefficients (correspondant aux 12 classes de notes) contenant des valeurs allant de 0 à 1 qui décrivent la dominance relative de chaque \"hauteur\" dans l'échelle chromatique.\n",
    "La dernière, df_timbres regroupe l'id et les 125 premières fonction de timbres : vecteur de 12 coefficients centrés autour de 0,nous informant sur la surface spectrale du son, classées par degré d'importance (le premier représente le volume sonore moyen du segment, le seconde la luminosité etc.)"
   ]
  },
  {
   "cell_type": "code",
   "execution_count": 3,
   "metadata": {},
   "outputs": [],
   "source": [
    "df_track = pd.read_csv(os.path.join('Database','tracksMeta_new.csv'), index_col = 0)\n",
    "df_pitches = pd.read_csv(os.path.join('Database','tracksPitches.csv'), index_col = 0)\n",
    "df_timbres = pd.read_csv(os.path.join('Database','tracksTimbres.csv'), index_col = 0)"
   ]
  },
  {
   "cell_type": "code",
   "execution_count": 4,
   "metadata": {},
   "outputs": [
    {
     "data": {
      "text/html": [
       "<div>\n",
       "<style scoped>\n",
       "    .dataframe tbody tr th:only-of-type {\n",
       "        vertical-align: middle;\n",
       "    }\n",
       "\n",
       "    .dataframe tbody tr th {\n",
       "        vertical-align: top;\n",
       "    }\n",
       "\n",
       "    .dataframe thead th {\n",
       "        text-align: right;\n",
       "    }\n",
       "</style>\n",
       "<table border=\"1\" class=\"dataframe\">\n",
       "  <thead>\n",
       "    <tr style=\"text-align: right;\">\n",
       "      <th></th>\n",
       "      <th>track_name</th>\n",
       "      <th>track_artists</th>\n",
       "      <th>genre</th>\n",
       "      <th>danceability</th>\n",
       "      <th>energy</th>\n",
       "      <th>key</th>\n",
       "      <th>loudness</th>\n",
       "      <th>mode</th>\n",
       "      <th>speechiness</th>\n",
       "      <th>acousticness</th>\n",
       "      <th>instrumentalness</th>\n",
       "      <th>liveness</th>\n",
       "      <th>valence</th>\n",
       "      <th>tempo</th>\n",
       "      <th>duration_ms</th>\n",
       "      <th>time_signature</th>\n",
       "    </tr>\n",
       "    <tr>\n",
       "      <th>id</th>\n",
       "      <th></th>\n",
       "      <th></th>\n",
       "      <th></th>\n",
       "      <th></th>\n",
       "      <th></th>\n",
       "      <th></th>\n",
       "      <th></th>\n",
       "      <th></th>\n",
       "      <th></th>\n",
       "      <th></th>\n",
       "      <th></th>\n",
       "      <th></th>\n",
       "      <th></th>\n",
       "      <th></th>\n",
       "      <th></th>\n",
       "      <th></th>\n",
       "    </tr>\n",
       "  </thead>\n",
       "  <tbody>\n",
       "    <tr>\n",
       "      <th>2wiA6eP7rBktnxmjgX8g7U</th>\n",
       "      <td>Penetration in the Centrefold - 2010 Remaster</td>\n",
       "      <td>DEVO</td>\n",
       "      <td>rock</td>\n",
       "      <td>0.579</td>\n",
       "      <td>0.713</td>\n",
       "      <td>1.0</td>\n",
       "      <td>-10.438</td>\n",
       "      <td>1.0</td>\n",
       "      <td>0.0361</td>\n",
       "      <td>0.16400</td>\n",
       "      <td>0.001260</td>\n",
       "      <td>0.2330</td>\n",
       "      <td>0.831</td>\n",
       "      <td>115.665</td>\n",
       "      <td>149427.0</td>\n",
       "      <td>4.0</td>\n",
       "    </tr>\n",
       "    <tr>\n",
       "      <th>48xD8fTt37etYF52AJBiXF</th>\n",
       "      <td>Fever</td>\n",
       "      <td>Judas Priest</td>\n",
       "      <td>rock</td>\n",
       "      <td>0.486</td>\n",
       "      <td>0.696</td>\n",
       "      <td>9.0</td>\n",
       "      <td>-7.557</td>\n",
       "      <td>1.0</td>\n",
       "      <td>0.0406</td>\n",
       "      <td>0.00671</td>\n",
       "      <td>0.000141</td>\n",
       "      <td>0.1140</td>\n",
       "      <td>0.325</td>\n",
       "      <td>111.370</td>\n",
       "      <td>320253.0</td>\n",
       "      <td>4.0</td>\n",
       "    </tr>\n",
       "    <tr>\n",
       "      <th>74wIEdRJGZR5aaKu2XnREO</th>\n",
       "      <td>Don't Wanna Let You Go</td>\n",
       "      <td>Quiet Riot</td>\n",
       "      <td>rock</td>\n",
       "      <td>0.638</td>\n",
       "      <td>0.806</td>\n",
       "      <td>2.0</td>\n",
       "      <td>-6.989</td>\n",
       "      <td>1.0</td>\n",
       "      <td>0.0529</td>\n",
       "      <td>0.10500</td>\n",
       "      <td>0.000247</td>\n",
       "      <td>0.0803</td>\n",
       "      <td>0.830</td>\n",
       "      <td>108.257</td>\n",
       "      <td>281133.0</td>\n",
       "      <td>4.0</td>\n",
       "    </tr>\n",
       "    <tr>\n",
       "      <th>25YlltWXRb9k7KbrEBRuhJ</th>\n",
       "      <td>Lo/Hi</td>\n",
       "      <td>The Black Keys</td>\n",
       "      <td>rock</td>\n",
       "      <td>0.606</td>\n",
       "      <td>0.679</td>\n",
       "      <td>2.0</td>\n",
       "      <td>-7.445</td>\n",
       "      <td>1.0</td>\n",
       "      <td>0.0321</td>\n",
       "      <td>0.01510</td>\n",
       "      <td>0.000433</td>\n",
       "      <td>0.0962</td>\n",
       "      <td>0.707</td>\n",
       "      <td>122.016</td>\n",
       "      <td>177768.0</td>\n",
       "      <td>4.0</td>\n",
       "    </tr>\n",
       "    <tr>\n",
       "      <th>2CczZm7lbN6DEeOvct2K6s</th>\n",
       "      <td>New Minglewood Blues - Live at Nassau Coliseum...</td>\n",
       "      <td>Grateful Dead</td>\n",
       "      <td>rock</td>\n",
       "      <td>0.612</td>\n",
       "      <td>0.802</td>\n",
       "      <td>9.0</td>\n",
       "      <td>-9.715</td>\n",
       "      <td>1.0</td>\n",
       "      <td>0.0438</td>\n",
       "      <td>0.61700</td>\n",
       "      <td>0.101000</td>\n",
       "      <td>0.7190</td>\n",
       "      <td>0.673</td>\n",
       "      <td>104.453</td>\n",
       "      <td>454573.0</td>\n",
       "      <td>4.0</td>\n",
       "    </tr>\n",
       "    <tr>\n",
       "      <th>...</th>\n",
       "      <td>...</td>\n",
       "      <td>...</td>\n",
       "      <td>...</td>\n",
       "      <td>...</td>\n",
       "      <td>...</td>\n",
       "      <td>...</td>\n",
       "      <td>...</td>\n",
       "      <td>...</td>\n",
       "      <td>...</td>\n",
       "      <td>...</td>\n",
       "      <td>...</td>\n",
       "      <td>...</td>\n",
       "      <td>...</td>\n",
       "      <td>...</td>\n",
       "      <td>...</td>\n",
       "      <td>...</td>\n",
       "    </tr>\n",
       "    <tr>\n",
       "      <th>2CMGAu0krhuwn7BKpjwLz0</th>\n",
       "      <td>The Judge</td>\n",
       "      <td>Buddy Brown</td>\n",
       "      <td>country</td>\n",
       "      <td>0.518</td>\n",
       "      <td>0.754</td>\n",
       "      <td>1.0</td>\n",
       "      <td>-6.366</td>\n",
       "      <td>1.0</td>\n",
       "      <td>0.0444</td>\n",
       "      <td>0.00701</td>\n",
       "      <td>0.000012</td>\n",
       "      <td>0.1010</td>\n",
       "      <td>0.560</td>\n",
       "      <td>175.999</td>\n",
       "      <td>211547.0</td>\n",
       "      <td>4.0</td>\n",
       "    </tr>\n",
       "    <tr>\n",
       "      <th>5SzBQvpCZGuWP3FcLlUtVd</th>\n",
       "      <td>Jingle Bell Rock</td>\n",
       "      <td>Blake Shelton</td>\n",
       "      <td>country</td>\n",
       "      <td>0.650</td>\n",
       "      <td>0.736</td>\n",
       "      <td>0.0</td>\n",
       "      <td>-5.222</td>\n",
       "      <td>1.0</td>\n",
       "      <td>0.0378</td>\n",
       "      <td>0.12200</td>\n",
       "      <td>0.000000</td>\n",
       "      <td>0.0998</td>\n",
       "      <td>0.595</td>\n",
       "      <td>129.941</td>\n",
       "      <td>123400.0</td>\n",
       "      <td>4.0</td>\n",
       "    </tr>\n",
       "    <tr>\n",
       "      <th>5d0O0zKttFsO60cXzdQYjX</th>\n",
       "      <td>Flyin' Saucers Rock 'n' Roll</td>\n",
       "      <td>Billy Lee Riley</td>\n",
       "      <td>country</td>\n",
       "      <td>0.430</td>\n",
       "      <td>0.653</td>\n",
       "      <td>2.0</td>\n",
       "      <td>-8.957</td>\n",
       "      <td>1.0</td>\n",
       "      <td>0.0732</td>\n",
       "      <td>0.68400</td>\n",
       "      <td>0.000029</td>\n",
       "      <td>0.2200</td>\n",
       "      <td>0.679</td>\n",
       "      <td>165.018</td>\n",
       "      <td>122108.0</td>\n",
       "      <td>4.0</td>\n",
       "    </tr>\n",
       "    <tr>\n",
       "      <th>2a2ohPqiaeLI8jrgVLGqyo</th>\n",
       "      <td>Pecan Pie</td>\n",
       "      <td>Golden Smog</td>\n",
       "      <td>country</td>\n",
       "      <td>0.498</td>\n",
       "      <td>0.570</td>\n",
       "      <td>7.0</td>\n",
       "      <td>-11.587</td>\n",
       "      <td>1.0</td>\n",
       "      <td>0.0266</td>\n",
       "      <td>0.22500</td>\n",
       "      <td>0.000005</td>\n",
       "      <td>0.4990</td>\n",
       "      <td>0.784</td>\n",
       "      <td>102.092</td>\n",
       "      <td>173960.0</td>\n",
       "      <td>4.0</td>\n",
       "    </tr>\n",
       "    <tr>\n",
       "      <th>5alGgCHROtZuuwtH8C3csd</th>\n",
       "      <td>You're No Good - Live at Television Center Stu...</td>\n",
       "      <td>Linda Ronstadt</td>\n",
       "      <td>country</td>\n",
       "      <td>0.495</td>\n",
       "      <td>0.654</td>\n",
       "      <td>5.0</td>\n",
       "      <td>-9.042</td>\n",
       "      <td>0.0</td>\n",
       "      <td>0.0379</td>\n",
       "      <td>0.01410</td>\n",
       "      <td>0.096600</td>\n",
       "      <td>0.9470</td>\n",
       "      <td>0.482</td>\n",
       "      <td>103.458</td>\n",
       "      <td>383547.0</td>\n",
       "      <td>4.0</td>\n",
       "    </tr>\n",
       "  </tbody>\n",
       "</table>\n",
       "<p>15399 rows × 16 columns</p>\n",
       "</div>"
      ],
      "text/plain": [
       "                                                               track_name  \\\n",
       "id                                                                          \n",
       "2wiA6eP7rBktnxmjgX8g7U      Penetration in the Centrefold - 2010 Remaster   \n",
       "48xD8fTt37etYF52AJBiXF                                              Fever   \n",
       "74wIEdRJGZR5aaKu2XnREO                             Don't Wanna Let You Go   \n",
       "25YlltWXRb9k7KbrEBRuhJ                                              Lo/Hi   \n",
       "2CczZm7lbN6DEeOvct2K6s  New Minglewood Blues - Live at Nassau Coliseum...   \n",
       "...                                                                   ...   \n",
       "2CMGAu0krhuwn7BKpjwLz0                                          The Judge   \n",
       "5SzBQvpCZGuWP3FcLlUtVd                                   Jingle Bell Rock   \n",
       "5d0O0zKttFsO60cXzdQYjX                       Flyin' Saucers Rock 'n' Roll   \n",
       "2a2ohPqiaeLI8jrgVLGqyo                                          Pecan Pie   \n",
       "5alGgCHROtZuuwtH8C3csd  You're No Good - Live at Television Center Stu...   \n",
       "\n",
       "                          track_artists    genre  danceability  energy  key  \\\n",
       "id                                                                            \n",
       "2wiA6eP7rBktnxmjgX8g7U             DEVO     rock         0.579   0.713  1.0   \n",
       "48xD8fTt37etYF52AJBiXF     Judas Priest     rock         0.486   0.696  9.0   \n",
       "74wIEdRJGZR5aaKu2XnREO       Quiet Riot     rock         0.638   0.806  2.0   \n",
       "25YlltWXRb9k7KbrEBRuhJ   The Black Keys     rock         0.606   0.679  2.0   \n",
       "2CczZm7lbN6DEeOvct2K6s    Grateful Dead     rock         0.612   0.802  9.0   \n",
       "...                                 ...      ...           ...     ...  ...   \n",
       "2CMGAu0krhuwn7BKpjwLz0      Buddy Brown  country         0.518   0.754  1.0   \n",
       "5SzBQvpCZGuWP3FcLlUtVd    Blake Shelton  country         0.650   0.736  0.0   \n",
       "5d0O0zKttFsO60cXzdQYjX  Billy Lee Riley  country         0.430   0.653  2.0   \n",
       "2a2ohPqiaeLI8jrgVLGqyo      Golden Smog  country         0.498   0.570  7.0   \n",
       "5alGgCHROtZuuwtH8C3csd   Linda Ronstadt  country         0.495   0.654  5.0   \n",
       "\n",
       "                        loudness  mode  speechiness  acousticness  \\\n",
       "id                                                                  \n",
       "2wiA6eP7rBktnxmjgX8g7U   -10.438   1.0       0.0361       0.16400   \n",
       "48xD8fTt37etYF52AJBiXF    -7.557   1.0       0.0406       0.00671   \n",
       "74wIEdRJGZR5aaKu2XnREO    -6.989   1.0       0.0529       0.10500   \n",
       "25YlltWXRb9k7KbrEBRuhJ    -7.445   1.0       0.0321       0.01510   \n",
       "2CczZm7lbN6DEeOvct2K6s    -9.715   1.0       0.0438       0.61700   \n",
       "...                          ...   ...          ...           ...   \n",
       "2CMGAu0krhuwn7BKpjwLz0    -6.366   1.0       0.0444       0.00701   \n",
       "5SzBQvpCZGuWP3FcLlUtVd    -5.222   1.0       0.0378       0.12200   \n",
       "5d0O0zKttFsO60cXzdQYjX    -8.957   1.0       0.0732       0.68400   \n",
       "2a2ohPqiaeLI8jrgVLGqyo   -11.587   1.0       0.0266       0.22500   \n",
       "5alGgCHROtZuuwtH8C3csd    -9.042   0.0       0.0379       0.01410   \n",
       "\n",
       "                        instrumentalness  liveness  valence    tempo  \\\n",
       "id                                                                     \n",
       "2wiA6eP7rBktnxmjgX8g7U          0.001260    0.2330    0.831  115.665   \n",
       "48xD8fTt37etYF52AJBiXF          0.000141    0.1140    0.325  111.370   \n",
       "74wIEdRJGZR5aaKu2XnREO          0.000247    0.0803    0.830  108.257   \n",
       "25YlltWXRb9k7KbrEBRuhJ          0.000433    0.0962    0.707  122.016   \n",
       "2CczZm7lbN6DEeOvct2K6s          0.101000    0.7190    0.673  104.453   \n",
       "...                                  ...       ...      ...      ...   \n",
       "2CMGAu0krhuwn7BKpjwLz0          0.000012    0.1010    0.560  175.999   \n",
       "5SzBQvpCZGuWP3FcLlUtVd          0.000000    0.0998    0.595  129.941   \n",
       "5d0O0zKttFsO60cXzdQYjX          0.000029    0.2200    0.679  165.018   \n",
       "2a2ohPqiaeLI8jrgVLGqyo          0.000005    0.4990    0.784  102.092   \n",
       "5alGgCHROtZuuwtH8C3csd          0.096600    0.9470    0.482  103.458   \n",
       "\n",
       "                        duration_ms  time_signature  \n",
       "id                                                   \n",
       "2wiA6eP7rBktnxmjgX8g7U     149427.0             4.0  \n",
       "48xD8fTt37etYF52AJBiXF     320253.0             4.0  \n",
       "74wIEdRJGZR5aaKu2XnREO     281133.0             4.0  \n",
       "25YlltWXRb9k7KbrEBRuhJ     177768.0             4.0  \n",
       "2CczZm7lbN6DEeOvct2K6s     454573.0             4.0  \n",
       "...                             ...             ...  \n",
       "2CMGAu0krhuwn7BKpjwLz0     211547.0             4.0  \n",
       "5SzBQvpCZGuWP3FcLlUtVd     123400.0             4.0  \n",
       "5d0O0zKttFsO60cXzdQYjX     122108.0             4.0  \n",
       "2a2ohPqiaeLI8jrgVLGqyo     173960.0             4.0  \n",
       "5alGgCHROtZuuwtH8C3csd     383547.0             4.0  \n",
       "\n",
       "[15399 rows x 16 columns]"
      ]
     },
     "execution_count": 4,
     "metadata": {},
     "output_type": "execute_result"
    }
   ],
   "source": [
    "df_track"
   ]
  },
  {
   "cell_type": "markdown",
   "metadata": {},
   "source": [
    "#### Description par genre"
   ]
  },
  {
   "cell_type": "markdown",
   "metadata": {},
   "source": [
    "Ce qui nous intéresse ici, c'est d'évaluer le niveau de ces différentes caractéristiques en fonction du genre du morceau, afin d'essayer de déterminer ce qui les distingue. En effet, il sera plus facile de prédire l'appartenance d'un morceau à un genre si chaque genre a des caractéristiques très différentes des autres."
   ]
  },
  {
   "cell_type": "code",
   "execution_count": 5,
   "metadata": {},
   "outputs": [
    {
     "data": {
      "text/html": [
       "<div>\n",
       "<style scoped>\n",
       "    .dataframe tbody tr th:only-of-type {\n",
       "        vertical-align: middle;\n",
       "    }\n",
       "\n",
       "    .dataframe tbody tr th {\n",
       "        vertical-align: top;\n",
       "    }\n",
       "\n",
       "    .dataframe thead th {\n",
       "        text-align: right;\n",
       "    }\n",
       "</style>\n",
       "<table border=\"1\" class=\"dataframe\">\n",
       "  <thead>\n",
       "    <tr style=\"text-align: right;\">\n",
       "      <th></th>\n",
       "      <th>danceability</th>\n",
       "      <th>energy</th>\n",
       "      <th>key</th>\n",
       "      <th>loudness</th>\n",
       "      <th>mode</th>\n",
       "      <th>speechiness</th>\n",
       "      <th>acousticness</th>\n",
       "      <th>instrumentalness</th>\n",
       "      <th>liveness</th>\n",
       "      <th>valence</th>\n",
       "      <th>tempo</th>\n",
       "      <th>duration_ms</th>\n",
       "      <th>time_signature</th>\n",
       "    </tr>\n",
       "    <tr>\n",
       "      <th>genre</th>\n",
       "      <th></th>\n",
       "      <th></th>\n",
       "      <th></th>\n",
       "      <th></th>\n",
       "      <th></th>\n",
       "      <th></th>\n",
       "      <th></th>\n",
       "      <th></th>\n",
       "      <th></th>\n",
       "      <th></th>\n",
       "      <th></th>\n",
       "      <th></th>\n",
       "      <th></th>\n",
       "    </tr>\n",
       "  </thead>\n",
       "  <tbody>\n",
       "    <tr>\n",
       "      <th>blues</th>\n",
       "      <td>0.585086</td>\n",
       "      <td>0.554949</td>\n",
       "      <td>5.294565</td>\n",
       "      <td>-10.034371</td>\n",
       "      <td>0.685564</td>\n",
       "      <td>0.069123</td>\n",
       "      <td>0.363364</td>\n",
       "      <td>0.084557</td>\n",
       "      <td>0.237955</td>\n",
       "      <td>0.621897</td>\n",
       "      <td>120.044381</td>\n",
       "      <td>241316.461718</td>\n",
       "      <td>3.852718</td>\n",
       "    </tr>\n",
       "    <tr>\n",
       "      <th>classical</th>\n",
       "      <td>0.367434</td>\n",
       "      <td>0.142377</td>\n",
       "      <td>5.218586</td>\n",
       "      <td>-21.609019</td>\n",
       "      <td>0.728229</td>\n",
       "      <td>0.047269</td>\n",
       "      <td>0.923316</td>\n",
       "      <td>0.661553</td>\n",
       "      <td>0.157827</td>\n",
       "      <td>0.399849</td>\n",
       "      <td>109.586611</td>\n",
       "      <td>193143.167738</td>\n",
       "      <td>3.639392</td>\n",
       "    </tr>\n",
       "    <tr>\n",
       "      <th>country</th>\n",
       "      <td>0.576761</td>\n",
       "      <td>0.572595</td>\n",
       "      <td>5.284044</td>\n",
       "      <td>-9.119131</td>\n",
       "      <td>0.900058</td>\n",
       "      <td>0.050758</td>\n",
       "      <td>0.387786</td>\n",
       "      <td>0.036688</td>\n",
       "      <td>0.232559</td>\n",
       "      <td>0.583805</td>\n",
       "      <td>120.913948</td>\n",
       "      <td>210194.998247</td>\n",
       "      <td>3.908241</td>\n",
       "    </tr>\n",
       "    <tr>\n",
       "      <th>disco</th>\n",
       "      <td>0.657542</td>\n",
       "      <td>0.710581</td>\n",
       "      <td>5.429573</td>\n",
       "      <td>-7.430791</td>\n",
       "      <td>0.582700</td>\n",
       "      <td>0.090320</td>\n",
       "      <td>0.164143</td>\n",
       "      <td>0.126473</td>\n",
       "      <td>0.201733</td>\n",
       "      <td>0.596846</td>\n",
       "      <td>119.500873</td>\n",
       "      <td>260291.415546</td>\n",
       "      <td>3.966686</td>\n",
       "    </tr>\n",
       "    <tr>\n",
       "      <th>hip hop</th>\n",
       "      <td>0.703216</td>\n",
       "      <td>0.685032</td>\n",
       "      <td>5.458796</td>\n",
       "      <td>-7.280680</td>\n",
       "      <td>0.549971</td>\n",
       "      <td>0.227830</td>\n",
       "      <td>0.161215</td>\n",
       "      <td>0.065860</td>\n",
       "      <td>0.216463</td>\n",
       "      <td>0.563614</td>\n",
       "      <td>115.014078</td>\n",
       "      <td>227406.452367</td>\n",
       "      <td>3.977791</td>\n",
       "    </tr>\n",
       "    <tr>\n",
       "      <th>house</th>\n",
       "      <td>0.670320</td>\n",
       "      <td>0.733630</td>\n",
       "      <td>5.525424</td>\n",
       "      <td>-7.487143</td>\n",
       "      <td>0.521333</td>\n",
       "      <td>0.083277</td>\n",
       "      <td>0.130165</td>\n",
       "      <td>0.371764</td>\n",
       "      <td>0.195663</td>\n",
       "      <td>0.437819</td>\n",
       "      <td>124.022825</td>\n",
       "      <td>279204.056692</td>\n",
       "      <td>3.971362</td>\n",
       "    </tr>\n",
       "    <tr>\n",
       "      <th>jazz</th>\n",
       "      <td>0.625441</td>\n",
       "      <td>0.313417</td>\n",
       "      <td>4.923437</td>\n",
       "      <td>-16.282840</td>\n",
       "      <td>0.577440</td>\n",
       "      <td>0.061530</td>\n",
       "      <td>0.661095</td>\n",
       "      <td>0.562049</td>\n",
       "      <td>0.168764</td>\n",
       "      <td>0.529027</td>\n",
       "      <td>110.510886</td>\n",
       "      <td>219001.766219</td>\n",
       "      <td>3.845704</td>\n",
       "    </tr>\n",
       "    <tr>\n",
       "      <th>metal</th>\n",
       "      <td>0.418486</td>\n",
       "      <td>0.882296</td>\n",
       "      <td>5.203390</td>\n",
       "      <td>-5.710610</td>\n",
       "      <td>0.620105</td>\n",
       "      <td>0.091481</td>\n",
       "      <td>0.031595</td>\n",
       "      <td>0.164800</td>\n",
       "      <td>0.266478</td>\n",
       "      <td>0.366665</td>\n",
       "      <td>128.652985</td>\n",
       "      <td>257114.170660</td>\n",
       "      <td>3.911748</td>\n",
       "    </tr>\n",
       "    <tr>\n",
       "      <th>rock</th>\n",
       "      <td>0.499080</td>\n",
       "      <td>0.663306</td>\n",
       "      <td>5.222092</td>\n",
       "      <td>-9.038712</td>\n",
       "      <td>0.710111</td>\n",
       "      <td>0.067603</td>\n",
       "      <td>0.260850</td>\n",
       "      <td>0.109036</td>\n",
       "      <td>0.308368</td>\n",
       "      <td>0.534979</td>\n",
       "      <td>123.324715</td>\n",
       "      <td>270387.388662</td>\n",
       "      <td>3.934541</td>\n",
       "    </tr>\n",
       "  </tbody>\n",
       "</table>\n",
       "</div>"
      ],
      "text/plain": [
       "           danceability    energy       key   loudness      mode  speechiness  \\\n",
       "genre                                                                           \n",
       "blues          0.585086  0.554949  5.294565 -10.034371  0.685564     0.069123   \n",
       "classical      0.367434  0.142377  5.218586 -21.609019  0.728229     0.047269   \n",
       "country        0.576761  0.572595  5.284044  -9.119131  0.900058     0.050758   \n",
       "disco          0.657542  0.710581  5.429573  -7.430791  0.582700     0.090320   \n",
       "hip hop        0.703216  0.685032  5.458796  -7.280680  0.549971     0.227830   \n",
       "house          0.670320  0.733630  5.525424  -7.487143  0.521333     0.083277   \n",
       "jazz           0.625441  0.313417  4.923437 -16.282840  0.577440     0.061530   \n",
       "metal          0.418486  0.882296  5.203390  -5.710610  0.620105     0.091481   \n",
       "rock           0.499080  0.663306  5.222092  -9.038712  0.710111     0.067603   \n",
       "\n",
       "           acousticness  instrumentalness  liveness   valence       tempo  \\\n",
       "genre                                                                       \n",
       "blues          0.363364          0.084557  0.237955  0.621897  120.044381   \n",
       "classical      0.923316          0.661553  0.157827  0.399849  109.586611   \n",
       "country        0.387786          0.036688  0.232559  0.583805  120.913948   \n",
       "disco          0.164143          0.126473  0.201733  0.596846  119.500873   \n",
       "hip hop        0.161215          0.065860  0.216463  0.563614  115.014078   \n",
       "house          0.130165          0.371764  0.195663  0.437819  124.022825   \n",
       "jazz           0.661095          0.562049  0.168764  0.529027  110.510886   \n",
       "metal          0.031595          0.164800  0.266478  0.366665  128.652985   \n",
       "rock           0.260850          0.109036  0.308368  0.534979  123.324715   \n",
       "\n",
       "             duration_ms  time_signature  \n",
       "genre                                     \n",
       "blues      241316.461718        3.852718  \n",
       "classical  193143.167738        3.639392  \n",
       "country    210194.998247        3.908241  \n",
       "disco      260291.415546        3.966686  \n",
       "hip hop    227406.452367        3.977791  \n",
       "house      279204.056692        3.971362  \n",
       "jazz       219001.766219        3.845704  \n",
       "metal      257114.170660        3.911748  \n",
       "rock       270387.388662        3.934541  "
      ]
     },
     "execution_count": 5,
     "metadata": {},
     "output_type": "execute_result"
    }
   ],
   "source": [
    "#On calcule la moyenne de chaque caractéristique en fonction du genre du morceau\n",
    "df_genres = df_track.groupby(['genre']).mean()\n",
    "df_genres"
   ]
  },
  {
   "cell_type": "code",
   "execution_count": 6,
   "metadata": {},
   "outputs": [
    {
     "data": {
      "text/html": [
       "<div>\n",
       "<style scoped>\n",
       "    .dataframe tbody tr th:only-of-type {\n",
       "        vertical-align: middle;\n",
       "    }\n",
       "\n",
       "    .dataframe tbody tr th {\n",
       "        vertical-align: top;\n",
       "    }\n",
       "\n",
       "    .dataframe thead tr th {\n",
       "        text-align: left;\n",
       "    }\n",
       "\n",
       "    .dataframe thead tr:last-of-type th {\n",
       "        text-align: right;\n",
       "    }\n",
       "</style>\n",
       "<table border=\"1\" class=\"dataframe\">\n",
       "  <thead>\n",
       "    <tr>\n",
       "      <th></th>\n",
       "      <th colspan=\"8\" halign=\"left\">danceability</th>\n",
       "      <th colspan=\"2\" halign=\"left\">energy</th>\n",
       "      <th>...</th>\n",
       "      <th colspan=\"2\" halign=\"left\">duration_ms</th>\n",
       "      <th colspan=\"8\" halign=\"left\">time_signature</th>\n",
       "    </tr>\n",
       "    <tr>\n",
       "      <th></th>\n",
       "      <th>count</th>\n",
       "      <th>mean</th>\n",
       "      <th>std</th>\n",
       "      <th>min</th>\n",
       "      <th>25%</th>\n",
       "      <th>50%</th>\n",
       "      <th>75%</th>\n",
       "      <th>max</th>\n",
       "      <th>count</th>\n",
       "      <th>mean</th>\n",
       "      <th>...</th>\n",
       "      <th>75%</th>\n",
       "      <th>max</th>\n",
       "      <th>count</th>\n",
       "      <th>mean</th>\n",
       "      <th>std</th>\n",
       "      <th>min</th>\n",
       "      <th>25%</th>\n",
       "      <th>50%</th>\n",
       "      <th>75%</th>\n",
       "      <th>max</th>\n",
       "    </tr>\n",
       "    <tr>\n",
       "      <th>genre</th>\n",
       "      <th></th>\n",
       "      <th></th>\n",
       "      <th></th>\n",
       "      <th></th>\n",
       "      <th></th>\n",
       "      <th></th>\n",
       "      <th></th>\n",
       "      <th></th>\n",
       "      <th></th>\n",
       "      <th></th>\n",
       "      <th></th>\n",
       "      <th></th>\n",
       "      <th></th>\n",
       "      <th></th>\n",
       "      <th></th>\n",
       "      <th></th>\n",
       "      <th></th>\n",
       "      <th></th>\n",
       "      <th></th>\n",
       "      <th></th>\n",
       "      <th></th>\n",
       "    </tr>\n",
       "  </thead>\n",
       "  <tbody>\n",
       "    <tr>\n",
       "      <th>blues</th>\n",
       "      <td>1711.0</td>\n",
       "      <td>0.585086</td>\n",
       "      <td>0.160914</td>\n",
       "      <td>0.1490</td>\n",
       "      <td>0.4680</td>\n",
       "      <td>0.587</td>\n",
       "      <td>0.7095</td>\n",
       "      <td>0.967</td>\n",
       "      <td>1711.0</td>\n",
       "      <td>0.554949</td>\n",
       "      <td>...</td>\n",
       "      <td>276733.0</td>\n",
       "      <td>1024933.0</td>\n",
       "      <td>1711.0</td>\n",
       "      <td>3.852718</td>\n",
       "      <td>0.425011</td>\n",
       "      <td>1.0</td>\n",
       "      <td>4.0</td>\n",
       "      <td>4.0</td>\n",
       "      <td>4.0</td>\n",
       "      <td>5.0</td>\n",
       "    </tr>\n",
       "    <tr>\n",
       "      <th>classical</th>\n",
       "      <td>1711.0</td>\n",
       "      <td>0.367434</td>\n",
       "      <td>0.140182</td>\n",
       "      <td>0.0000</td>\n",
       "      <td>0.2650</td>\n",
       "      <td>0.374</td>\n",
       "      <td>0.4625</td>\n",
       "      <td>0.802</td>\n",
       "      <td>1711.0</td>\n",
       "      <td>0.142377</td>\n",
       "      <td>...</td>\n",
       "      <td>218553.0</td>\n",
       "      <td>1443787.0</td>\n",
       "      <td>1711.0</td>\n",
       "      <td>3.639392</td>\n",
       "      <td>0.724066</td>\n",
       "      <td>0.0</td>\n",
       "      <td>3.0</td>\n",
       "      <td>4.0</td>\n",
       "      <td>4.0</td>\n",
       "      <td>5.0</td>\n",
       "    </tr>\n",
       "    <tr>\n",
       "      <th>country</th>\n",
       "      <td>1711.0</td>\n",
       "      <td>0.576761</td>\n",
       "      <td>0.121644</td>\n",
       "      <td>0.0000</td>\n",
       "      <td>0.5000</td>\n",
       "      <td>0.583</td>\n",
       "      <td>0.6590</td>\n",
       "      <td>0.942</td>\n",
       "      <td>1711.0</td>\n",
       "      <td>0.572595</td>\n",
       "      <td>...</td>\n",
       "      <td>238189.0</td>\n",
       "      <td>598627.0</td>\n",
       "      <td>1711.0</td>\n",
       "      <td>3.908241</td>\n",
       "      <td>0.379746</td>\n",
       "      <td>0.0</td>\n",
       "      <td>4.0</td>\n",
       "      <td>4.0</td>\n",
       "      <td>4.0</td>\n",
       "      <td>5.0</td>\n",
       "    </tr>\n",
       "    <tr>\n",
       "      <th>disco</th>\n",
       "      <td>1711.0</td>\n",
       "      <td>0.657542</td>\n",
       "      <td>0.150282</td>\n",
       "      <td>0.0844</td>\n",
       "      <td>0.5710</td>\n",
       "      <td>0.677</td>\n",
       "      <td>0.7650</td>\n",
       "      <td>0.973</td>\n",
       "      <td>1711.0</td>\n",
       "      <td>0.710581</td>\n",
       "      <td>...</td>\n",
       "      <td>294553.0</td>\n",
       "      <td>922120.0</td>\n",
       "      <td>1711.0</td>\n",
       "      <td>3.966686</td>\n",
       "      <td>0.254895</td>\n",
       "      <td>1.0</td>\n",
       "      <td>4.0</td>\n",
       "      <td>4.0</td>\n",
       "      <td>4.0</td>\n",
       "      <td>5.0</td>\n",
       "    </tr>\n",
       "    <tr>\n",
       "      <th>hip hop</th>\n",
       "      <td>1711.0</td>\n",
       "      <td>0.703216</td>\n",
       "      <td>0.143000</td>\n",
       "      <td>0.0941</td>\n",
       "      <td>0.6140</td>\n",
       "      <td>0.725</td>\n",
       "      <td>0.8115</td>\n",
       "      <td>0.961</td>\n",
       "      <td>1711.0</td>\n",
       "      <td>0.685032</td>\n",
       "      <td>...</td>\n",
       "      <td>265720.0</td>\n",
       "      <td>962200.0</td>\n",
       "      <td>1711.0</td>\n",
       "      <td>3.977791</td>\n",
       "      <td>0.308890</td>\n",
       "      <td>1.0</td>\n",
       "      <td>4.0</td>\n",
       "      <td>4.0</td>\n",
       "      <td>4.0</td>\n",
       "      <td>5.0</td>\n",
       "    </tr>\n",
       "    <tr>\n",
       "      <th>house</th>\n",
       "      <td>1711.0</td>\n",
       "      <td>0.670320</td>\n",
       "      <td>0.144667</td>\n",
       "      <td>0.1040</td>\n",
       "      <td>0.5865</td>\n",
       "      <td>0.689</td>\n",
       "      <td>0.7790</td>\n",
       "      <td>0.988</td>\n",
       "      <td>1711.0</td>\n",
       "      <td>0.733630</td>\n",
       "      <td>...</td>\n",
       "      <td>331132.5</td>\n",
       "      <td>2669911.0</td>\n",
       "      <td>1711.0</td>\n",
       "      <td>3.971362</td>\n",
       "      <td>0.215749</td>\n",
       "      <td>1.0</td>\n",
       "      <td>4.0</td>\n",
       "      <td>4.0</td>\n",
       "      <td>4.0</td>\n",
       "      <td>5.0</td>\n",
       "    </tr>\n",
       "    <tr>\n",
       "      <th>jazz</th>\n",
       "      <td>1711.0</td>\n",
       "      <td>0.625441</td>\n",
       "      <td>0.147382</td>\n",
       "      <td>0.1200</td>\n",
       "      <td>0.5280</td>\n",
       "      <td>0.641</td>\n",
       "      <td>0.7325</td>\n",
       "      <td>0.964</td>\n",
       "      <td>1711.0</td>\n",
       "      <td>0.313417</td>\n",
       "      <td>...</td>\n",
       "      <td>263055.0</td>\n",
       "      <td>1589533.0</td>\n",
       "      <td>1711.0</td>\n",
       "      <td>3.845704</td>\n",
       "      <td>0.467209</td>\n",
       "      <td>1.0</td>\n",
       "      <td>4.0</td>\n",
       "      <td>4.0</td>\n",
       "      <td>4.0</td>\n",
       "      <td>5.0</td>\n",
       "    </tr>\n",
       "    <tr>\n",
       "      <th>metal</th>\n",
       "      <td>1711.0</td>\n",
       "      <td>0.418486</td>\n",
       "      <td>0.145766</td>\n",
       "      <td>0.0607</td>\n",
       "      <td>0.3045</td>\n",
       "      <td>0.425</td>\n",
       "      <td>0.5280</td>\n",
       "      <td>0.852</td>\n",
       "      <td>1711.0</td>\n",
       "      <td>0.882296</td>\n",
       "      <td>...</td>\n",
       "      <td>291341.0</td>\n",
       "      <td>1008000.0</td>\n",
       "      <td>1711.0</td>\n",
       "      <td>3.911748</td>\n",
       "      <td>0.366486</td>\n",
       "      <td>1.0</td>\n",
       "      <td>4.0</td>\n",
       "      <td>4.0</td>\n",
       "      <td>4.0</td>\n",
       "      <td>5.0</td>\n",
       "    </tr>\n",
       "    <tr>\n",
       "      <th>rock</th>\n",
       "      <td>1711.0</td>\n",
       "      <td>0.499080</td>\n",
       "      <td>0.160413</td>\n",
       "      <td>0.0875</td>\n",
       "      <td>0.3790</td>\n",
       "      <td>0.501</td>\n",
       "      <td>0.6110</td>\n",
       "      <td>0.944</td>\n",
       "      <td>1711.0</td>\n",
       "      <td>0.663306</td>\n",
       "      <td>...</td>\n",
       "      <td>303420.0</td>\n",
       "      <td>1827507.0</td>\n",
       "      <td>1711.0</td>\n",
       "      <td>3.934541</td>\n",
       "      <td>0.317767</td>\n",
       "      <td>1.0</td>\n",
       "      <td>4.0</td>\n",
       "      <td>4.0</td>\n",
       "      <td>4.0</td>\n",
       "      <td>5.0</td>\n",
       "    </tr>\n",
       "  </tbody>\n",
       "</table>\n",
       "<p>9 rows × 104 columns</p>\n",
       "</div>"
      ],
      "text/plain": [
       "          danceability                                                     \\\n",
       "                 count      mean       std     min     25%    50%     75%   \n",
       "genre                                                                       \n",
       "blues           1711.0  0.585086  0.160914  0.1490  0.4680  0.587  0.7095   \n",
       "classical       1711.0  0.367434  0.140182  0.0000  0.2650  0.374  0.4625   \n",
       "country         1711.0  0.576761  0.121644  0.0000  0.5000  0.583  0.6590   \n",
       "disco           1711.0  0.657542  0.150282  0.0844  0.5710  0.677  0.7650   \n",
       "hip hop         1711.0  0.703216  0.143000  0.0941  0.6140  0.725  0.8115   \n",
       "house           1711.0  0.670320  0.144667  0.1040  0.5865  0.689  0.7790   \n",
       "jazz            1711.0  0.625441  0.147382  0.1200  0.5280  0.641  0.7325   \n",
       "metal           1711.0  0.418486  0.145766  0.0607  0.3045  0.425  0.5280   \n",
       "rock            1711.0  0.499080  0.160413  0.0875  0.3790  0.501  0.6110   \n",
       "\n",
       "                  energy            ... duration_ms            time_signature  \\\n",
       "             max   count      mean  ...         75%        max          count   \n",
       "genre                               ...                                         \n",
       "blues      0.967  1711.0  0.554949  ...    276733.0  1024933.0         1711.0   \n",
       "classical  0.802  1711.0  0.142377  ...    218553.0  1443787.0         1711.0   \n",
       "country    0.942  1711.0  0.572595  ...    238189.0   598627.0         1711.0   \n",
       "disco      0.973  1711.0  0.710581  ...    294553.0   922120.0         1711.0   \n",
       "hip hop    0.961  1711.0  0.685032  ...    265720.0   962200.0         1711.0   \n",
       "house      0.988  1711.0  0.733630  ...    331132.5  2669911.0         1711.0   \n",
       "jazz       0.964  1711.0  0.313417  ...    263055.0  1589533.0         1711.0   \n",
       "metal      0.852  1711.0  0.882296  ...    291341.0  1008000.0         1711.0   \n",
       "rock       0.944  1711.0  0.663306  ...    303420.0  1827507.0         1711.0   \n",
       "\n",
       "                                                        \n",
       "               mean       std  min  25%  50%  75%  max  \n",
       "genre                                                   \n",
       "blues      3.852718  0.425011  1.0  4.0  4.0  4.0  5.0  \n",
       "classical  3.639392  0.724066  0.0  3.0  4.0  4.0  5.0  \n",
       "country    3.908241  0.379746  0.0  4.0  4.0  4.0  5.0  \n",
       "disco      3.966686  0.254895  1.0  4.0  4.0  4.0  5.0  \n",
       "hip hop    3.977791  0.308890  1.0  4.0  4.0  4.0  5.0  \n",
       "house      3.971362  0.215749  1.0  4.0  4.0  4.0  5.0  \n",
       "jazz       3.845704  0.467209  1.0  4.0  4.0  4.0  5.0  \n",
       "metal      3.911748  0.366486  1.0  4.0  4.0  4.0  5.0  \n",
       "rock       3.934541  0.317767  1.0  4.0  4.0  4.0  5.0  \n",
       "\n",
       "[9 rows x 104 columns]"
      ]
     },
     "execution_count": 6,
     "metadata": {},
     "output_type": "execute_result"
    }
   ],
   "source": [
    "#Au-delà de la simple moyenne on peut calculer d'autres statistiques descriptives en fonction du genre \n",
    "df_genres_describe = df_track.groupby(['genre']).describe()\n",
    "df_genres_describe"
   ]
  },
  {
   "cell_type": "code",
   "execution_count": 7,
   "metadata": {},
   "outputs": [
    {
     "ename": "NameError",
     "evalue": "name 'plt' is not defined",
     "output_type": "error",
     "traceback": [
      "\u001b[0;31m---------------------------------------------------------------------------\u001b[0m",
      "\u001b[0;31mNameError\u001b[0m                                 Traceback (most recent call last)",
      "\u001b[0;32m<ipython-input-7-5638a440b121>\u001b[0m in \u001b[0;36m<module>\u001b[0;34m\u001b[0m\n\u001b[1;32m      3\u001b[0m \u001b[0;32mimport\u001b[0m \u001b[0mseaborn\u001b[0m \u001b[0;32mas\u001b[0m \u001b[0msns\u001b[0m\u001b[0;34m\u001b[0m\u001b[0;34m\u001b[0m\u001b[0m\n\u001b[1;32m      4\u001b[0m \u001b[0max\u001b[0m \u001b[0;34m=\u001b[0m \u001b[0msns\u001b[0m\u001b[0;34m.\u001b[0m\u001b[0mboxplot\u001b[0m\u001b[0;34m(\u001b[0m\u001b[0my\u001b[0m\u001b[0;34m=\u001b[0m\u001b[0;34m\"danceability\"\u001b[0m\u001b[0;34m,\u001b[0m \u001b[0mx\u001b[0m\u001b[0;34m=\u001b[0m\u001b[0;34m\"genre\"\u001b[0m\u001b[0;34m,\u001b[0m \u001b[0mdata\u001b[0m\u001b[0;34m=\u001b[0m\u001b[0mdf_track\u001b[0m\u001b[0;34m)\u001b[0m\u001b[0;34m\u001b[0m\u001b[0;34m\u001b[0m\u001b[0m\n\u001b[0;32m----> 5\u001b[0;31m \u001b[0mplt\u001b[0m\u001b[0;34m.\u001b[0m\u001b[0mtitle\u001b[0m\u001b[0;34m(\u001b[0m\u001b[0;34m'Boîtes à moustaches : \"danceability\" selon le genre'\u001b[0m\u001b[0;34m)\u001b[0m\u001b[0;34m\u001b[0m\u001b[0;34m\u001b[0m\u001b[0m\n\u001b[0m\u001b[1;32m      6\u001b[0m \u001b[0mplt\u001b[0m\u001b[0;34m.\u001b[0m\u001b[0mshow\u001b[0m\u001b[0;34m(\u001b[0m\u001b[0;34m)\u001b[0m\u001b[0;34m\u001b[0m\u001b[0;34m\u001b[0m\u001b[0m\n\u001b[1;32m      7\u001b[0m \u001b[0;34m\u001b[0m\u001b[0m\n",
      "\u001b[0;31mNameError\u001b[0m: name 'plt' is not defined"
     ]
    },
    {
     "data": {
      "image/png": "[encoded data removed]",
      "text/plain": [
       "<Figure size 432x288 with 1 Axes>"
      ]
     },
     "metadata": {
      "needs_background": "light"
     },
     "output_type": "display_data"
    }
   ],
   "source": [
    "# Pour que ce soit plus visuel, on peut plot des boîtes à moustaches \n",
    "\n",
    "import seaborn as sns\n",
    "ax = sns.boxplot(y=\"danceability\", x=\"genre\", data=df_track)\n",
    "plt.title('Boîtes à moustaches : \"danceability\" selon le genre')\n",
    "plt.show()\n",
    "\n",
    "ax = sns.boxplot(y=\"energy\", x=\"genre\", data=df_track)\n",
    "plt.title('Boîtes à moustaches : \"energy\" selon le genre')\n",
    "plt.show()\n",
    "\n",
    "ax = sns.boxplot(y=\"key\", x=\"genre\", data=df_track)\n",
    "plt.title('Boîtes à moustaches : \"key\" selon le genre')\n",
    "plt.show()\n",
    "\n",
    "ax = sns.boxplot(y=\"loudness\", x=\"genre\", data=df_track)\n",
    "plt.title('Boîtes à moustaches : \"loudness\" selon le genre')\n",
    "plt.show()\n",
    "\n",
    "#Pas pertinent de plot mode car ne prend que très peu de valeurs différentes.\n",
    "ax = sns.boxplot(y=\"mode\", x=\"genre\", data=df_track)\n",
    "plt.title('Boîtes à moustaches : \"mode\" selon le genre')\n",
    "plt.show()\n",
    "\n",
    "ax = sns.boxplot(y=\"speechiness\", x=\"genre\", data=df_track)\n",
    "plt.title('Boîtes à moustaches : \"speechiness\" selon le genre')\n",
    "plt.show()\n",
    "\n",
    "ax = sns.boxplot(y=\"acousticness\", x=\"genre\", data=df_track)\n",
    "plt.title('Boîtes à moustaches : \"acousticness\" selon le genre')\n",
    "plt.show()\n",
    "\n",
    "ax = sns.boxplot(y=\"instrumentalness\", x=\"genre\", data=df_track)\n",
    "plt.title('Boîtes à moustaches : \"instrumentalness\" selon le genre')\n",
    "plt.show()\n",
    "\n",
    "ax = sns.boxplot(y=\"liveness\", x=\"genre\", data=df_track)\n",
    "plt.title('Boîtes à moustaches : \"liveness\" selon le genre')\n",
    "plt.show()\n",
    "\n",
    "ax = sns.boxplot(y=\"valence\", x=\"genre\", data=df_track)\n",
    "plt.title('Boîtes à moustaches : \"valence\" selon le genre')\n",
    "plt.show()\n",
    "\n",
    "ax = sns.boxplot(y=\"tempo\", x=\"genre\", data=df_track)\n",
    "plt.title('Boîtes à moustaches : \"tempo\" selon le genre')\n",
    "plt.show()\n",
    "\n",
    "ax = sns.boxplot(y=\"duration_ms\", x=\"genre\", data=df_track)\n",
    "plt.title('Boîtes à moustaches : \"duration_ms\" selon le genre')\n",
    "plt.show()\n",
    "\n",
    "#Pas pertinent de plot time signature car ne prend que très peu de valeurs différentes.\n",
    "ax = sns.boxplot(y=\"time_signature\", x=\"genre\", data=df_track)\n",
    "plt.title('Boîtes à moustaches : \"time_signature\" selon le genre')\n",
    "plt.show()"
   ]
  },
  {
   "cell_type": "markdown",
   "metadata": {},
   "source": [
    "Certaines boîtes montrent des dispersiond très différentes au niveau des caractéristiques, en fonction du genre (energy, danceability, instrumentalness, accousticness) tandis que d'autres caractéristique ne diffèrent que très peu. Par exemple, key, mode, time-signature, duration : on pouvait s'y attendre car ce ne sont pas des caractéristiques donnant une \"note\" entre 0 et 1, mais des indicateurs ne prenant que peu de valeurs différentes. D'autres caractéristiques qui auraient pu montrer une dispersion très différente affichent une distribution finalement assez similaire selon le genre, comme le tempo, liveness, ce qu'il est intéressant de noter. "
   ]
  },
  {
   "cell_type": "markdown",
   "metadata": {},
   "source": [
    "Corrélation entre les genres :"
   ]
  },
  {
   "cell_type": "markdown",
   "metadata": {},
   "source": [
    "On peut essayer de regarder à quel point deux genres sont similaires, afin d'établier une \"échelle\" de proximité entre les genres. On regarde la corrélation des genres en fonction de la moyenne de leur features.\n"
   ]
  },
  {
   "cell_type": "code",
   "execution_count": null,
   "metadata": {},
   "outputs": [],
   "source": [
    "# A faire"
   ]
  },
  {
   "cell_type": "markdown",
   "metadata": {},
   "source": [
    "#### Corrélation entre les différentes caractéristiques :"
   ]
  },
  {
   "cell_type": "markdown",
   "metadata": {},
   "source": [
    "On veut éviter les caractéristiques fortement corrélées pour éviter que ces dernières soit redondantes. En effet  garder uniquement les features pertinentes simplifie le modèle et évite l'overfitting, et permet également des temps de calculs moins long."
   ]
  },
  {
   "cell_type": "code",
   "execution_count": null,
   "metadata": {},
   "outputs": [],
   "source": [
    "#On observe la corrélation entre les features \n",
    "corr_metrics = df_track.corr(method='pearson')\n",
    "\n",
    "#Pour que ce soit plus visuel : plus la corrélation entre deux features est importante, plus la case est foncée\n",
    "corr_metrics.style.background_gradient()"
   ]
  },
  {
   "cell_type": "markdown",
   "metadata": {},
   "source": [
    "Ici il n'y a pas de corrélation majeure entre les features, on peut donc conserver ces dernières qui restent pertinentes."
   ]
  },
  {
   "cell_type": "markdown",
   "metadata": {},
   "source": [
    "### Normalisation des premières données :"
   ]
  },
  {
   "cell_type": "markdown",
   "metadata": {},
   "source": [
    "Comme mentionné précédemment, il peut être particulièrement utile de simplifier nos modèles et d'utiliser aussi peu de fonctionnalités que nécessaire pour obtenir le meilleur résultat. Comme nous n'avons pas trouvé de corrélations particulièrement fortes entre nos fonctionnalités, nous pouvons à la place utiliser une approche commune pour réduire le nombre de fonctionnalités : l'analyse en composants principaux (ACP).\n",
    "L'ACP nous permet en effet de déterminer la contribution relative de chaque caractéristique de nos données à la variance entre les différents genres.\n",
    "\n",
    "Cependant, étant donné que l'ACP utilise la variance absolue d'une fonction, les caractéristiques avec des plages de valeurs larges vont surpasser et biaiser l'algorithme par rapport aux autres caractéristiques. Normaliser les données est donc une étape importante, on utilise pour cela la standardisation. "
   ]
  },
  {
   "cell_type": "code",
   "execution_count": null,
   "metadata": {},
   "outputs": [],
   "source": [
    "from sklearn.preprocessing import StandardScaler\n",
    "\n",
    "autoscaler = StandardScaler()\n",
    "\n",
    "#On enlève les colonnes qui ne sont pas numériques (et donc qu'il n'est pas nécessaire de normaliser)\n",
    "df_track_features = df_track.drop(['track_name', 'track_artists', 'genre'], axis=1)\n",
    "\n",
    "#On normalise\n",
    "normalized_features = autoscaler.fit_transform(df_track_features)"
   ]
  },
  {
   "cell_type": "code",
   "execution_count": null,
   "metadata": {},
   "outputs": [],
   "source": [
    "#On remplace les éventuels NaN par 0\n",
    "normalized_features = np.nan_to_num(normalized_features)\n",
    "\n",
    "#On vérifie qu'il n'y a plus de NaN\n",
    "np.isnan(normalized_features).sum()"
   ]
  },
  {
   "cell_type": "markdown",
   "metadata": {},
   "source": [
    "#### Normalized_df_track = df_track normalisé"
   ]
  },
  {
   "cell_type": "code",
   "execution_count": null,
   "metadata": {},
   "outputs": [],
   "source": [
    "#On reconstruit un \"beau\" DataFrame et on rajoute les colonnes qu'il n'était pas nécessaire de normaliser\n",
    "\n",
    "normalized_df_track = pd.DataFrame(normalized_features, index=df_track_features.index, columns=df_track_features.columns)\n",
    "normalized_df_track['track_name'] = df_track['track_name']\n",
    "normalized_df_track['track_artists'] = df_track['track_artists']\n",
    "normalized_df_track['genre'] = df_track['genre']\n",
    "\n",
    "#normalized_df_track"
   ]
  },
  {
   "cell_type": "markdown",
   "metadata": {},
   "source": [
    "### ACP de Normalized_df_track"
   ]
  },
  {
   "cell_type": "code",
   "execution_count": null,
   "metadata": {},
   "outputs": [],
   "source": [
    "import matplotlib.pyplot as plt\n",
    "from sklearn.decomposition import PCA\n",
    "\n",
    "pca = PCA(n_components=5)\n",
    "principal_components_features = pca.fit(normalized_features)\n",
    "exp_variance = pca.explained_variance_ratio_\n",
    "exp_variance\n"
   ]
  },
  {
   "cell_type": "markdown",
   "metadata": {},
   "source": [
    "Les 5 premiers coefficients de l'ACP montrent que ces features du df_track permettent d'expliquer près de 62% de la variance, ce qui constitue un premier résultat intéressant."
   ]
  },
  {
   "cell_type": "markdown",
   "metadata": {},
   "source": [
    "Afin d'améliorer notre prédiction, considérer des features bien choisie en exploitant les deux autres dataset est essentiel. Nous allons donc nous concentrer sur ces derniers."
   ]
  },
  {
   "cell_type": "markdown",
   "metadata": {},
   "source": [
    "### Dataset pitches"
   ]
  },
  {
   "cell_type": "markdown",
   "metadata": {},
   "source": [
    "Les pitches et timbres se lisent par groupe de 12 : il s'agit d'un vecteur de 12 coefficients. \n",
    "Il est donc pertinent de comparer les pitches entre elles ou timbres entre eux coefficient par coefficient.\n",
    "On peut également calculer les statistiques du vecteur (chromagramme, fonction de timbre), pour nous donner des informations sur le chromagramme/la fonction de timbre \"type\" selon le genre.\n",
    "\n",
    "Pour plus de clarté, on va renommer les colonnes du dataframe."
   ]
  },
  {
   "cell_type": "markdown",
   "metadata": {},
   "source": [
    "Tout d'abord on normalise les deux bases :"
   ]
  },
  {
   "cell_type": "code",
   "execution_count": null,
   "metadata": {},
   "outputs": [],
   "source": [
    "#On normalise df_pitches\n",
    "normalized_pitches = autoscaler.fit_transform(df_pitches.drop(['genre'], axis=1))\n",
    "\n",
    "#On remplace les éventuels NaN par 0\n",
    "normalized_pitches = np.nan_to_num(normalized_pitches)\n",
    "\n",
    "#On vérifie qu'il n'y a plus de NaN\n",
    "np.isnan(normalized_pitches).sum()"
   ]
  },
  {
   "cell_type": "code",
   "execution_count": null,
   "metadata": {},
   "outputs": [],
   "source": [
    "#On reconstruit un \"beau\" DataFrame et on rajoute les colonnes qu'il n'était pas nécessaire de normaliser\n",
    "\n",
    "normalized_pitches = pd.DataFrame(normalized_pitches, index= df_pitches.index)\n",
    "normalized_pitches['genre'] = df_pitches['genre']\n",
    "#normalized_pitches"
   ]
  },
  {
   "cell_type": "code",
   "execution_count": null,
   "metadata": {},
   "outputs": [],
   "source": [
    "#On normalise df_timbres\n",
    "normalized_timbres = autoscaler.fit_transform(df_timbres.drop(['genre'], axis=1))\n",
    "\n",
    "#On remplace les éventuels NaN par 0\n",
    "normalized_timbres = np.nan_to_num(normalized_timbres)\n",
    "\n",
    "#On vérifie qu'il n'y a plus de NaN\n",
    "np.isnan(normalized_timbres).sum()\n"
   ]
  },
  {
   "cell_type": "code",
   "execution_count": null,
   "metadata": {},
   "outputs": [],
   "source": [
    "#On reconstruit un \"beau\" DataFrame et on rajoute les colonnes qu'il n'était pas nécessaire de normaliser\n",
    "\n",
    "normalized_timbres = pd.DataFrame(normalized_timbres, index= df_timbres.index)\n",
    "normalized_timbres['genre'] = df_timbres['genre']\n",
    "#normalized_timbres"
   ]
  },
  {
   "cell_type": "markdown",
   "metadata": {},
   "source": [
    "On renomme les colonnes des dataframes :"
   ]
  },
  {
   "cell_type": "code",
   "execution_count": null,
   "metadata": {
    "scrolled": true
   },
   "outputs": [],
   "source": [
    "newCols = [\"pitch0_idx\" + str(k) for k in range(1,13)]\n",
    "for pitchIdx in range(1,125):\n",
    "    newCols.extend([(\"pitch%d_idx\" % pitchIdx) + str(k) for k in range(1,13)])\n",
    "newCols.extend(['genre'])\n",
    "\n",
    "normalized_pitches.columns = newCols\n",
    "#normalized_pitches"
   ]
  },
  {
   "cell_type": "code",
   "execution_count": null,
   "metadata": {},
   "outputs": [],
   "source": [
    "newCols = [\"timbre0_idx\" + str(k) for k in range(1,13)]\n",
    "for timbreIdx in range(1,125):\n",
    "    newCols.extend([(\"timbre%d_idx\" % timbreIdx) + str(k) for k in range(1,13)])\n",
    "newCols.extend(['genre'])\n",
    "\n",
    "normalized_timbres.columns = newCols\n",
    "#normalized_timbres"
   ]
  },
  {
   "cell_type": "markdown",
   "metadata": {},
   "source": [
    "Désormais, on a les 125 premiers chromagrammes de chaque chanson, un chromagramme correspondant aux 12 colonnes commençant par pitchk avec $k \\in [[0,124]]$. De même pour les fonctions de timbres."
   ]
  },
  {
   "cell_type": "markdown",
   "metadata": {},
   "source": [
    "On rassemble des statistiques sur chaque dimension du chromagramme"
   ]
  },
  {
   "cell_type": "code",
   "execution_count": null,
   "metadata": {
    "scrolled": true
   },
   "outputs": [],
   "source": [
    "df_pitches_reduced = pd.DataFrame(index = df_pitches.index)\n",
    "for dimChroma in range(1,13):\n",
    "    filteredCols = [\"pitch%d_idx%d\" % (pitchIdx, dimChroma) for pitchIdx in range(125)]\n",
    "    filtered_df = normalized_pitches.filter(items = filteredCols).transpose()\n",
    "    df_pitches_reduced['chroma%d_mean' % dimChroma] = filtered_df.mean()\n",
    "    df_pitches_reduced['chroma%d_standard_deviation' % dimChroma] = filtered_df.std()\n",
    "    df_pitches_reduced['chroma%d_skewness' % dimChroma] = filtered_df.skew()\n",
    "    df_pitches_reduced['chroma%d_kurtosis' % dimChroma] = filtered_df.kurt()\n",
    "df_pitches_reduced"
   ]
  },
  {
   "cell_type": "code",
   "execution_count": null,
   "metadata": {},
   "outputs": [],
   "source": [
    "df_timbres_reduced = pd.DataFrame(index = df_timbres.index)\n",
    "for dimTimbre in range(1,13):\n",
    "    filteredCols = [\"timbre%d_idx%d\" % (timbreIdx, dimTimbre) for timbreIdx in range(125)]\n",
    "    filtered_df = normalized_timbres.filter(items = filteredCols).transpose()\n",
    "    df_timbres_reduced['timbre%d_mean' % dimTimbre] = filtered_df.mean()\n",
    "    df_timbres_reduced['timbre%d_standard_deviation' % dimTimbre] = filtered_df.std()\n",
    "    df_timbres_reduced['timbre%d_skewness' % dimTimbre] = filtered_df.skew()\n",
    "    df_timbres_reduced['timbre%d_kurtosis' % dimTimbre] = filtered_df.kurt()\n",
    "#df_timbres_reduced"
   ]
  },
  {
   "cell_type": "code",
   "execution_count": null,
   "metadata": {},
   "outputs": [],
   "source": [
    "# On normalise ensuite ces features nouvellement créées\n",
    "\n",
    "chromaScaler = StandardScaler()\n",
    "\n",
    "normalized_pitches_stats = chromaScaler.fit_transform(df_pitches_reduced)\n",
    "\n",
    "# Toujours aucun NaN dans les données\n",
    "print(np.isnan(normalized_pitches_stats).sum())\n",
    "\n",
    "\n",
    "# On normalise ensuite ces features nouvellement créées\n",
    "\n",
    "timbreScaler = StandardScaler()\n",
    "\n",
    "normalized_timbres_stats = chromaScaler.fit_transform(df_timbres_reduced)\n",
    "\n",
    "# Toujours aucun NaN dans les données\n",
    "print(np.isnan(normalized_timbres_stats).sum())\n"
   ]
  },
  {
   "cell_type": "markdown",
   "metadata": {},
   "source": [
    "On a désormais un dataframe complet avec des infos sur chaque track et une liste de 61 features combinant celles de spotify avec des statistiques descriptives sur les différentes dimensions du chromagramme."
   ]
  },
  {
   "cell_type": "code",
   "execution_count": null,
   "metadata": {},
   "outputs": [],
   "source": [
    "normalized_df_track_total = normalized_df_track.copy()\n",
    "\n",
    "for colIdx, column in enumerate(normalized_pitches_stats.transpose()):\n",
    "    colName = df_pitches_reduced.columns[colIdx]\n",
    "    normalized_df_track_total[colName] = column\n",
    "    \n",
    "\n",
    "for colIdx, column in enumerate(normalized_timbres_stats.transpose()):\n",
    "    colName = df_timbres_reduced.columns[colIdx]\n",
    "    normalized_df_track_total[colName] = column\n",
    "\n",
    "normalized_df_track_total"
   ]
  },
  {
   "cell_type": "code",
   "execution_count": null,
   "metadata": {
    "scrolled": true
   },
   "outputs": [],
   "source": [
    "list(normalized_df_track_total.columns.values)"
   ]
  },
  {
   "cell_type": "code",
   "execution_count": null,
   "metadata": {},
   "outputs": [],
   "source": [
    "genres_to_labels = {genre : idx for idx,genre in enumerate(normalized_df_track_total.genre.unique())}\n",
    "labels_to_genres = {label : genre for genre, label in genres_to_labels.items()}\n",
    "\n",
    "labels = [genres_to_labels[genre] for genre in normalized_df_track_total.genre]\n",
    "\n",
    "normalized_df_track_total['labels'] = labels\n",
    "\n",
    "normalized_df_track['labels'] = labels"
   ]
  },
  {
   "cell_type": "markdown",
   "metadata": {},
   "source": [
    "#### ACP sur les pitches normalisés uniquement :\n"
   ]
  },
  {
   "cell_type": "code",
   "execution_count": null,
   "metadata": {},
   "outputs": [],
   "source": [
    "pca = PCA(n_components=10)\n",
    "\n",
    "pitches_2d_projected = pca.fit_transform(normalized_pitches_stats)\n",
    "\n",
    "print(pca.explained_variance_ratio_)\n",
    "\n",
    "plt.scatter(pitches_2d_projected[:, 0], pitches_2d_projected[:, 1],\n",
    "            c=normalized_df_track_total.labels, edgecolor='none', alpha=0.5,\n",
    "            cmap=plt.cm.get_cmap('viridis', 9))\n",
    "plt.xlabel('Composante 1')\n",
    "plt.ylabel('Composante 2')\n",
    "plt.colorbar();"
   ]
  },
  {
   "cell_type": "markdown",
   "metadata": {},
   "source": [
    "On voit que les deux premières composantes de l'ACP n'expliquent que 35% de la variance à elles seules, ce qui n'est pas beaucoup. Les 10 premières composantes expliquent 80% de la variance, mais on ne voit pas vraiment une feature se dégager.\n",
    "Lorsqu'on essaie de projeter les données sur l'espace formé par les deux premières composantes, les genres se superposent : on ne semble pas obtenir une classification évidente à l'aide de ces features."
   ]
  },
  {
   "cell_type": "markdown",
   "metadata": {},
   "source": [
    "### ACP sur df_track_total"
   ]
  },
  {
   "cell_type": "code",
   "execution_count": null,
   "metadata": {},
   "outputs": [],
   "source": [
    "pca = PCA(n_components=10)\n",
    "\n",
    "pitches_2d_projected = pca.fit_transform(normalized_df_track_total.drop(['genre', 'track_artists', 'track_name', 'labels'], axis = 1))\n",
    "\n",
    "principal_components_features = pca.fit(normalized_df_track_total.drop(['track_artists', 'track_name', 'genre','labels'], axis = 1))\n",
    "exp_variance = pca.explained_variance_ratio_\n",
    "print(exp_variance) \n",
    "\n",
    "plt.scatter(pitches_2d_projected[:, 0], pitches_2d_projected[:, 1],\n",
    "            c=normalized_df_track_total.labels, edgecolor='none', alpha=0.5,\n",
    "            cmap=plt.cm.get_cmap('viridis', 9))\n",
    "plt.xlabel('Composante 1')\n",
    "plt.ylabel('Composante 2')\n",
    "plt.colorbar();"
   ]
  },
  {
   "cell_type": "markdown",
   "metadata": {},
   "source": [
    "C'est encore moins bien qu'avant. On applique donc la réduction de dimension de notre première ACP, sur le dataset normalized_features.\n",
    "\n"
   ]
  },
  {
   "cell_type": "markdown",
   "metadata": {},
   "source": [
    "#### On applique la réduction de dimension à la fois au dataset ne contenant que les features de 'bases' et celle contenant les features de bases + les statistiques pitches et timbres"
   ]
  },
  {
   "cell_type": "code",
   "execution_count": null,
   "metadata": {},
   "outputs": [],
   "source": [
    "pca = PCA(n_components=10)\n",
    "\n",
    "\n",
    "principal_components_features = pca.fit(normalized_df_track_total.drop(['track_artists', 'track_name', 'genre','labels'], axis = 1))\n",
    "\n",
    "print(pca.explained_variance_ratio_)\n",
    "\n",
    "normalized_df_track_total_reduced = pca.transform(normalized_df_track_total.drop(columns = ['genre','track_artists','track_name', 'labels'], axis=1))\n",
    "normalized_df_track_total_reduced.shape\n",
    "\n",
    "#normalized_df_track_total_reduced"
   ]
  },
  {
   "cell_type": "code",
   "execution_count": null,
   "metadata": {},
   "outputs": [],
   "source": [
    "pca = PCA(n_components=10)\n",
    "\n",
    "principal_components_features = pca.fit(normalized_df_track.drop(['track_artists', 'track_name', 'genre','labels'], axis = 1))\n",
    "\n",
    "print(pca.explained_variance_ratio_)\n",
    "\n",
    "normalized_df_track_reduced = pca.transform(normalized_df_track.drop(columns = ['genre','track_artists','track_name', 'labels'], axis=1))\n",
    "normalized_df_track_reduced.shape\n",
    "\n",
    "#normalized_df_track_reduced"
   ]
  },
  {
   "cell_type": "markdown",
   "metadata": {},
   "source": [
    "On peut observer sur un graphique les deux premières \"nouvelles\" coordonnées de chaque morceau pour le dataset ne contenant que les features de base, pour regarder si il est possible de déjà distinguer des catégories."
   ]
  },
  {
   "cell_type": "code",
   "execution_count": null,
   "metadata": {},
   "outputs": [],
   "source": [
    "x = normalized_df_track_reduced[:, 0]\n",
    "y = normalized_df_track_reduced[:, 1]"
   ]
  },
  {
   "cell_type": "code",
   "execution_count": null,
   "metadata": {},
   "outputs": [],
   "source": [
    "normalized_df_track_reduced\n"
   ]
  },
  {
   "cell_type": "code",
   "execution_count": null,
   "metadata": {},
   "outputs": [],
   "source": [
    "df_plot = pd.DataFrame(dict(x=x, y=y, label=labels))\n",
    "groups = df_plot.groupby('label')\n",
    "fig, ax = plt.subplots()\n",
    "plt.rcParams[\"figure.figsize\"] = [60,30]\n",
    "ax.margins(0.05)\n",
    "for name, group in groups:\n",
    "    genre = labels_to_genres[name]\n",
    "    ax.plot(group.x, group.y, marker='o', linestyle='', ms=20, label=genre)\n",
    "ax.legend(fontsize = 40)\n",
    "\n",
    "plt.show()"
   ]
  },
  {
   "cell_type": "markdown",
   "metadata": {},
   "source": [
    "Ces premiers résultats ne sont pas vraiment exploitables : les genres semblent mélangés dans un seul cluster bien que certains genres semblent se distinguer légèrement : les genre classique et jazz sont par exemple plus à droite, le metal et le hip-hop plus à gauche, on voit aussi que le genre country semble assez peu dispersé. Bien sûr, les deux première dimensions de l'ACP ne peuvent décrire correctement l'ensemble des données. \n",
    "\n",
    "On peut malgré tout tenter de déterminer des clusters grâce à la méthode des K-means : méthode d'apprentissage non supervisé."
   ]
  },
  {
   "cell_type": "code",
   "execution_count": null,
   "metadata": {},
   "outputs": [],
   "source": [
    "from sklearn.cluster import AgglomerativeClustering\n",
    "kmeans = sklearn.cluster.KMeans(n_clusters=9).fit(normalized_df_track_reduced)"
   ]
  },
  {
   "cell_type": "code",
   "execution_count": null,
   "metadata": {},
   "outputs": [],
   "source": [
    "y = kmeans.predict(normalized_df_track_reduced)\n",
    "centers = kmeans.cluster_centers_\n",
    "plt.scatter(normalized_df_track_reduced[:,0], normalized_df_track_reduced[:,1], c = y, s = 150, cmap = 'viridis')\n",
    "plt.scatter(centers[:, 0], centers[:, 1], c='black', s=200, alpha=1);\n"
   ]
  },
  {
   "cell_type": "markdown",
   "metadata": {},
   "source": [
    "La méthode des K-means semble ici proposer des clusters qui se rapprochent légèrement de la répartition des genres réelle du graphique précédent. L'algorithme semble capable de déterminer des clusters dont les centres semblent se rapprocher des clusters de \"genre\" réels. Néanmoins on ne peut pas quantifier à quel point ces derniers sont proches de la réalité."
   ]
  },
  {
   "cell_type": "markdown",
   "metadata": {},
   "source": [
    "## Modèles de prédiction"
   ]
  },
  {
   "cell_type": "markdown",
   "metadata": {},
   "source": [
    "### Séparation en train et set "
   ]
  },
  {
   "cell_type": "code",
   "execution_count": null,
   "metadata": {},
   "outputs": [],
   "source": [
    "from sklearn.model_selection import train_test_split\n",
    "X_train, X_test, y_train, y_test = train_test_split(normalized_df_track_reduced, labels)"
   ]
  },
  {
   "cell_type": "code",
   "execution_count": null,
   "metadata": {},
   "outputs": [],
   "source": [
    "from sklearn.model_selection import train_test_split\n",
    "X_train_total, X_test_total, y_train_total, y_test_total = train_test_split(normalized_df_track_total_reduced, labels)"
   ]
  },
  {
   "cell_type": "markdown",
   "metadata": {},
   "source": [
    "### KNN"
   ]
  },
  {
   "cell_type": "code",
   "execution_count": null,
   "metadata": {},
   "outputs": [],
   "source": [
    "from sklearn import neighbors"
   ]
  },
  {
   "cell_type": "code",
   "execution_count": null,
   "metadata": {},
   "outputs": [],
   "source": [
    "errors = []\n",
    "for k in range(2,50):\n",
    "    knn = neighbors.KNeighborsClassifier(k)\n",
    "    errors.append(100*(1 - knn.fit(X_train, y_train).score(X_test, y_test)))\n",
    "plt.plot(range(2,50), errors, 'o-')\n",
    "plt.show()"
   ]
  },
  {
   "cell_type": "markdown",
   "metadata": {},
   "source": [
    "Meilleur K = 28"
   ]
  },
  {
   "cell_type": "code",
   "execution_count": null,
   "metadata": {},
   "outputs": [],
   "source": [
    "knn = neighbors.KNeighborsClassifier(n_neighbors=28)\n",
    "knn.fit(X_train, y_train)\n",
    "error = 1 - knn.score(X_test, y_test)\n",
    "print('Erreur: %f' % error)\n",
    "print('Accuracy: %f' % (1 - error))"
   ]
  },
  {
   "cell_type": "code",
   "execution_count": null,
   "metadata": {},
   "outputs": [],
   "source": [
    "errors = []\n",
    "for k in range(2,50):\n",
    "    knn = neighbors.KNeighborsClassifier(k)\n",
    "    errors.append(100*(1 - knn.fit(X_train_total, y_train_total).score(X_test_total, y_test_total)))\n",
    "plt.plot(range(2,50), errors, 'o-')\n",
    "plt.show()"
   ]
  },
  {
   "cell_type": "code",
   "execution_count": null,
   "metadata": {},
   "outputs": [],
   "source": [
    "knn = neighbors.KNeighborsClassifier(n_neighbors=50)\n",
    "knn.fit(X_train_total, y_train_total)\n",
    "error = 1 - knn.score(X_test_total, y_test_total)\n",
    "print('Erreur: %f' % error)\n",
    "print('Accuracy: %f' % (1 - error))"
   ]
  },
  {
   "cell_type": "markdown",
   "metadata": {},
   "source": [
    "Meilleur K = 50. Mais toujours une erreur importante qui semblent stagner autour de 50."
   ]
  },
  {
   "cell_type": "markdown",
   "metadata": {},
   "source": [
    "Même si l'erreur reste moins forte que si on attribuait les genres au hasard, l'algorithme KNN reste assez peu performant pour prédire le genre d'un morceau."
   ]
  },
  {
   "cell_type": "markdown",
   "metadata": {},
   "source": [
    "### Classification Linéaire"
   ]
  },
  {
   "cell_type": "markdown",
   "metadata": {},
   "source": [
    "On utilise un module de classification proposé par sklearn : la Décente de Gradient Stochastique. Il s'agit d'un modèle linéaire simple qui ne devrait pas offrir d'excellents résultats, mais il ne risque pas d'overfitter"
   ]
  },
  {
   "cell_type": "code",
   "execution_count": 8,
   "metadata": {},
   "outputs": [],
   "source": [
    "import sklearn.metrics\n",
    "from sklearn.metrics import accuracy_score\n",
    "from sklearn.metrics import mean_squared_error\n",
    "from sklearn.metrics import confusion_matrix"
   ]
  },
  {
   "cell_type": "code",
   "execution_count": 9,
   "metadata": {},
   "outputs": [
    {
     "ename": "NameError",
     "evalue": "name 'X_train_total' is not defined",
     "output_type": "error",
     "traceback": [
      "\u001b[0;31m---------------------------------------------------------------------------\u001b[0m",
      "\u001b[0;31mNameError\u001b[0m                                 Traceback (most recent call last)",
      "\u001b[0;32m<ipython-input-9-c933b0e2c36b>\u001b[0m in \u001b[0;36m<module>\u001b[0;34m\u001b[0m\n\u001b[1;32m      1\u001b[0m \u001b[0;32mfrom\u001b[0m \u001b[0msklearn\u001b[0m\u001b[0;34m.\u001b[0m\u001b[0mlinear_model\u001b[0m \u001b[0;32mimport\u001b[0m \u001b[0mSGDClassifier\u001b[0m\u001b[0;34m\u001b[0m\u001b[0;34m\u001b[0m\u001b[0m\n\u001b[0;32m----> 2\u001b[0;31m \u001b[0msgd_normalized_df_track_total\u001b[0m \u001b[0;34m=\u001b[0m \u001b[0mSGDClassifier\u001b[0m\u001b[0;34m(\u001b[0m\u001b[0mloss\u001b[0m \u001b[0;34m=\u001b[0m \u001b[0;34m'log'\u001b[0m\u001b[0;34m)\u001b[0m\u001b[0;34m.\u001b[0m\u001b[0mfit\u001b[0m\u001b[0;34m(\u001b[0m\u001b[0mX_train_total\u001b[0m\u001b[0;34m,\u001b[0m \u001b[0my_train_total\u001b[0m\u001b[0;34m)\u001b[0m\u001b[0;34m\u001b[0m\u001b[0;34m\u001b[0m\u001b[0m\n\u001b[0m",
      "\u001b[0;31mNameError\u001b[0m: name 'X_train_total' is not defined"
     ]
    }
   ],
   "source": [
    "from sklearn.linear_model import SGDClassifier\n",
    "sgd_normalized_df_track_total = SGDClassifier(loss = 'log').fit(X_train_total, y_train_total)  "
   ]
  },
  {
   "cell_type": "code",
   "execution_count": 10,
   "metadata": {},
   "outputs": [
    {
     "ename": "NameError",
     "evalue": "name 'y_train_total' is not defined",
     "output_type": "error",
     "traceback": [
      "\u001b[0;31m---------------------------------------------------------------------------\u001b[0m",
      "\u001b[0;31mNameError\u001b[0m                                 Traceback (most recent call last)",
      "\u001b[0;32m<ipython-input-10-356d184500b9>\u001b[0m in \u001b[0;36m<module>\u001b[0;34m\u001b[0m\n\u001b[0;32m----> 1\u001b[0;31m print('MSE:', '\\ntrain:', mean_squared_error(y_train_total, sgd_normalized_df_track_total.predict(X_train_total)),\n\u001b[0m\u001b[1;32m      2\u001b[0m               \u001b[0;34m'\\ntest:'\u001b[0m\u001b[0;34m,\u001b[0m \u001b[0mmean_squared_error\u001b[0m\u001b[0;34m(\u001b[0m\u001b[0my_test_total\u001b[0m\u001b[0;34m,\u001b[0m \u001b[0msgd_normalized_df_track_total\u001b[0m\u001b[0;34m.\u001b[0m\u001b[0mpredict\u001b[0m\u001b[0;34m(\u001b[0m\u001b[0mX_test_total\u001b[0m\u001b[0;34m)\u001b[0m\u001b[0;34m)\u001b[0m\u001b[0;34m\u001b[0m\u001b[0;34m\u001b[0m\u001b[0m\n\u001b[1;32m      3\u001b[0m      ) \n",
      "\u001b[0;31mNameError\u001b[0m: name 'y_train_total' is not defined"
     ]
    }
   ],
   "source": [
    "print('MSE:', '\\ntrain:', mean_squared_error(y_train_total, sgd_normalized_df_track_total.predict(X_train_total)),\n",
    "              '\\ntest:', mean_squared_error(y_test_total, sgd_normalized_df_track_total.predict(X_test_total))\n",
    "     ) "
   ]
  },
  {
   "cell_type": "code",
   "execution_count": 11,
   "metadata": {},
   "outputs": [
    {
     "ename": "NameError",
     "evalue": "name 'y_test_total' is not defined",
     "output_type": "error",
     "traceback": [
      "\u001b[0;31m---------------------------------------------------------------------------\u001b[0m",
      "\u001b[0;31mNameError\u001b[0m                                 Traceback (most recent call last)",
      "\u001b[0;32m<ipython-input-11-688ab023ba74>\u001b[0m in \u001b[0;36m<module>\u001b[0;34m\u001b[0m\n\u001b[0;32m----> 1\u001b[0;31m \u001b[0mconfusion_matrix\u001b[0m\u001b[0;34m(\u001b[0m\u001b[0my_test_total\u001b[0m\u001b[0;34m,\u001b[0m \u001b[0msgd_normalized_df_track_total\u001b[0m\u001b[0;34m.\u001b[0m\u001b[0mpredict\u001b[0m\u001b[0;34m(\u001b[0m\u001b[0mX_test_total\u001b[0m\u001b[0;34m)\u001b[0m\u001b[0;34m)\u001b[0m\u001b[0;34m\u001b[0m\u001b[0;34m\u001b[0m\u001b[0m\n\u001b[0m",
      "\u001b[0;31mNameError\u001b[0m: name 'y_test_total' is not defined"
     ]
    }
   ],
   "source": [
    "confusion_matrix(y_test_total, sgd_normalized_df_track_total.predict(X_test_total))"
   ]
  },
  {
   "cell_type": "code",
   "execution_count": 12,
   "metadata": {},
   "outputs": [
    {
     "ename": "NameError",
     "evalue": "name 'y_test_total' is not defined",
     "output_type": "error",
     "traceback": [
      "\u001b[0;31m---------------------------------------------------------------------------\u001b[0m",
      "\u001b[0;31mNameError\u001b[0m                                 Traceback (most recent call last)",
      "\u001b[0;32m<ipython-input-12-fe23ab980ece>\u001b[0m in \u001b[0;36m<module>\u001b[0;34m\u001b[0m\n\u001b[0;32m----> 1\u001b[0;31m \u001b[0maccuracy_score\u001b[0m\u001b[0;34m(\u001b[0m\u001b[0my_test_total\u001b[0m\u001b[0;34m,\u001b[0m \u001b[0msgd_normalized_df_track_total\u001b[0m\u001b[0;34m.\u001b[0m\u001b[0mpredict\u001b[0m\u001b[0;34m(\u001b[0m\u001b[0mX_test_total\u001b[0m\u001b[0;34m)\u001b[0m\u001b[0;34m)\u001b[0m\u001b[0;34m\u001b[0m\u001b[0;34m\u001b[0m\u001b[0m\n\u001b[0m",
      "\u001b[0;31mNameError\u001b[0m: name 'y_test_total' is not defined"
     ]
    }
   ],
   "source": [
    "accuracy_score(y_test_total, sgd_normalized_df_track_total.predict(X_test_total))"
   ]
  },
  {
   "cell_type": "code",
   "execution_count": 13,
   "metadata": {},
   "outputs": [
    {
     "ename": "NameError",
     "evalue": "name 'X_train' is not defined",
     "output_type": "error",
     "traceback": [
      "\u001b[0;31m---------------------------------------------------------------------------\u001b[0m",
      "\u001b[0;31mNameError\u001b[0m                                 Traceback (most recent call last)",
      "\u001b[0;32m<ipython-input-13-2bdcea215e95>\u001b[0m in \u001b[0;36m<module>\u001b[0;34m\u001b[0m\n\u001b[0;32m----> 1\u001b[0;31m \u001b[0msgd_normalized_df_track\u001b[0m \u001b[0;34m=\u001b[0m \u001b[0mSGDClassifier\u001b[0m\u001b[0;34m(\u001b[0m\u001b[0mloss\u001b[0m \u001b[0;34m=\u001b[0m \u001b[0;34m'log'\u001b[0m\u001b[0;34m)\u001b[0m\u001b[0;34m.\u001b[0m\u001b[0mfit\u001b[0m\u001b[0;34m(\u001b[0m\u001b[0mX_train\u001b[0m\u001b[0;34m,\u001b[0m \u001b[0my_train\u001b[0m\u001b[0;34m)\u001b[0m\u001b[0;34m\u001b[0m\u001b[0;34m\u001b[0m\u001b[0m\n\u001b[0m\u001b[1;32m      2\u001b[0m print('MSE:', '\\ntrain:', mean_squared_error(y_train, sgd_normalized_df_track.predict(X_train)),\n\u001b[1;32m      3\u001b[0m               \u001b[0;34m'\\ntest:'\u001b[0m\u001b[0;34m,\u001b[0m \u001b[0mmean_squared_error\u001b[0m\u001b[0;34m(\u001b[0m\u001b[0my_test\u001b[0m\u001b[0;34m,\u001b[0m \u001b[0msgd_normalized_df_track\u001b[0m\u001b[0;34m.\u001b[0m\u001b[0mpredict\u001b[0m\u001b[0;34m(\u001b[0m\u001b[0mX_test\u001b[0m\u001b[0;34m)\u001b[0m\u001b[0;34m)\u001b[0m\u001b[0;34m\u001b[0m\u001b[0;34m\u001b[0m\u001b[0m\n\u001b[1;32m      4\u001b[0m      ) \n",
      "\u001b[0;31mNameError\u001b[0m: name 'X_train' is not defined"
     ]
    }
   ],
   "source": [
    "sgd_normalized_df_track = SGDClassifier(loss = 'log').fit(X_train, y_train)  \n",
    "print('MSE:', '\\ntrain:', mean_squared_error(y_train, sgd_normalized_df_track.predict(X_train)),\n",
    "              '\\ntest:', mean_squared_error(y_test, sgd_normalized_df_track.predict(X_test))\n",
    "     ) "
   ]
  },
  {
   "cell_type": "code",
   "execution_count": 14,
   "metadata": {},
   "outputs": [
    {
     "ename": "NameError",
     "evalue": "name 'y_test' is not defined",
     "output_type": "error",
     "traceback": [
      "\u001b[0;31m---------------------------------------------------------------------------\u001b[0m",
      "\u001b[0;31mNameError\u001b[0m                                 Traceback (most recent call last)",
      "\u001b[0;32m<ipython-input-14-7a83dbb17ae1>\u001b[0m in \u001b[0;36m<module>\u001b[0;34m\u001b[0m\n\u001b[0;32m----> 1\u001b[0;31m \u001b[0mconfusion_matrix\u001b[0m\u001b[0;34m(\u001b[0m\u001b[0my_test\u001b[0m\u001b[0;34m,\u001b[0m \u001b[0msgd_normalized_df_track\u001b[0m\u001b[0;34m.\u001b[0m\u001b[0mpredict\u001b[0m\u001b[0;34m(\u001b[0m\u001b[0mX_test\u001b[0m\u001b[0;34m)\u001b[0m\u001b[0;34m)\u001b[0m\u001b[0;34m\u001b[0m\u001b[0;34m\u001b[0m\u001b[0m\n\u001b[0m",
      "\u001b[0;31mNameError\u001b[0m: name 'y_test' is not defined"
     ]
    }
   ],
   "source": [
    "confusion_matrix(y_test, sgd_normalized_df_track.predict(X_test))"
   ]
  },
  {
   "cell_type": "code",
   "execution_count": 15,
   "metadata": {},
   "outputs": [
    {
     "ename": "NameError",
     "evalue": "name 'y_test' is not defined",
     "output_type": "error",
     "traceback": [
      "\u001b[0;31m---------------------------------------------------------------------------\u001b[0m",
      "\u001b[0;31mNameError\u001b[0m                                 Traceback (most recent call last)",
      "\u001b[0;32m<ipython-input-15-043a79d2fe20>\u001b[0m in \u001b[0;36m<module>\u001b[0;34m\u001b[0m\n\u001b[0;32m----> 1\u001b[0;31m \u001b[0maccuracy_score\u001b[0m\u001b[0;34m(\u001b[0m\u001b[0my_test\u001b[0m\u001b[0;34m,\u001b[0m \u001b[0msgd_normalized_df_track\u001b[0m\u001b[0;34m.\u001b[0m\u001b[0mpredict\u001b[0m\u001b[0;34m(\u001b[0m\u001b[0mX_test\u001b[0m\u001b[0;34m)\u001b[0m\u001b[0;34m)\u001b[0m\u001b[0;34m\u001b[0m\u001b[0;34m\u001b[0m\u001b[0m\n\u001b[0m",
      "\u001b[0;31mNameError\u001b[0m: name 'y_test' is not defined"
     ]
    }
   ],
   "source": [
    "accuracy_score(y_test, sgd_normalized_df_track.predict(X_test))"
   ]
  },
  {
   "cell_type": "markdown",
   "metadata": {},
   "source": [
    "Dans le cas du SGD Classifier, la base enrichie (features + stat pitches et timbres), plus complète, offre un taux d'accuracy significativement meilleur. Les features utilisées pour décrire les pitches et les timbres sont donc utiles pour la prédiction avec cet algorithme, ce qui n'était pas le cas pour KNN. Ce classifier offre cependant une erreur légèrement plus importante (55% environ) que l'algorithme KNN."
   ]
  },
  {
   "cell_type": "markdown",
   "metadata": {},
   "source": [
    "Pour voir si overfit : f1 score + accuracy score sur base de train. pas calculer la mean squared error (a enlever)"
   ]
  },
  {
   "cell_type": "markdown",
   "metadata": {},
   "source": [
    "### Arbre de décision"
   ]
  },
  {
   "cell_type": "code",
   "execution_count": 16,
   "metadata": {},
   "outputs": [],
   "source": [
    "from sklearn.model_selection import GridSearchCV"
   ]
  },
  {
   "cell_type": "code",
   "execution_count": 17,
   "metadata": {},
   "outputs": [
    {
     "ename": "NameError",
     "evalue": "name 'X_train_total' is not defined",
     "output_type": "error",
     "traceback": [
      "\u001b[0;31m---------------------------------------------------------------------------\u001b[0m",
      "\u001b[0;31mNameError\u001b[0m                                 Traceback (most recent call last)",
      "\u001b[0;32m<ipython-input-17-cd12f5786dbe>\u001b[0m in \u001b[0;36m<module>\u001b[0;34m\u001b[0m\n\u001b[1;32m      1\u001b[0m \u001b[0;32mfrom\u001b[0m \u001b[0msklearn\u001b[0m\u001b[0;34m.\u001b[0m\u001b[0mtree\u001b[0m \u001b[0;32mimport\u001b[0m \u001b[0mDecisionTreeClassifier\u001b[0m\u001b[0;34m\u001b[0m\u001b[0;34m\u001b[0m\u001b[0m\n\u001b[0;32m----> 2\u001b[0;31m \u001b[0mtree_track_total\u001b[0m \u001b[0;34m=\u001b[0m \u001b[0mDecisionTreeClassifier\u001b[0m\u001b[0;34m(\u001b[0m\u001b[0;34m)\u001b[0m\u001b[0;34m.\u001b[0m\u001b[0mfit\u001b[0m\u001b[0;34m(\u001b[0m\u001b[0mX_train_total\u001b[0m\u001b[0;34m,\u001b[0m \u001b[0my_train_total\u001b[0m\u001b[0;34m)\u001b[0m\u001b[0;34m\u001b[0m\u001b[0;34m\u001b[0m\u001b[0m\n\u001b[0m\u001b[1;32m      3\u001b[0m \u001b[0;34m\u001b[0m\u001b[0m\n\u001b[1;32m      4\u001b[0m \u001b[0mtree_track\u001b[0m \u001b[0;34m=\u001b[0m \u001b[0mDecisionTreeClassifier\u001b[0m\u001b[0;34m(\u001b[0m\u001b[0;34m)\u001b[0m\u001b[0;34m.\u001b[0m\u001b[0mfit\u001b[0m\u001b[0;34m(\u001b[0m\u001b[0mX_train\u001b[0m\u001b[0;34m,\u001b[0m \u001b[0my_train\u001b[0m\u001b[0;34m)\u001b[0m\u001b[0;34m\u001b[0m\u001b[0;34m\u001b[0m\u001b[0m\n",
      "\u001b[0;31mNameError\u001b[0m: name 'X_train_total' is not defined"
     ]
    }
   ],
   "source": [
    "from sklearn.tree import DecisionTreeClassifier\n",
    "tree_track_total = DecisionTreeClassifier().fit(X_train_total, y_train_total)\n",
    "\n",
    "tree_track = DecisionTreeClassifier().fit(X_train, y_train)"
   ]
  },
  {
   "cell_type": "code",
   "execution_count": 18,
   "metadata": {},
   "outputs": [
    {
     "ename": "NameError",
     "evalue": "name 'X_train_total' is not defined",
     "output_type": "error",
     "traceback": [
      "\u001b[0;31m---------------------------------------------------------------------------\u001b[0m",
      "\u001b[0;31mNameError\u001b[0m                                 Traceback (most recent call last)",
      "\u001b[0;32m<ipython-input-18-a059a33fc5e9>\u001b[0m in \u001b[0;36m<module>\u001b[0;34m\u001b[0m\n\u001b[1;32m      3\u001b[0m \u001b[0mtree_track_total\u001b[0m \u001b[0;34m=\u001b[0m \u001b[0mDecisionTreeClassifier\u001b[0m\u001b[0;34m(\u001b[0m\u001b[0;34m)\u001b[0m\u001b[0;34m\u001b[0m\u001b[0;34m\u001b[0m\u001b[0m\n\u001b[1;32m      4\u001b[0m \u001b[0mtree_search_track_total\u001b[0m \u001b[0;34m=\u001b[0m \u001b[0mGridSearchCV\u001b[0m\u001b[0;34m(\u001b[0m\u001b[0mtree_track_total\u001b[0m\u001b[0;34m,\u001b[0m \u001b[0mparameters\u001b[0m\u001b[0;34m,\u001b[0m \u001b[0mscoring\u001b[0m\u001b[0;34m=\u001b[0m\u001b[0;34m'neg_mean_squared_error'\u001b[0m\u001b[0;34m,\u001b[0m \u001b[0mcv\u001b[0m\u001b[0;34m=\u001b[0m\u001b[0;36m10\u001b[0m\u001b[0;34m,\u001b[0m \u001b[0mn_jobs\u001b[0m\u001b[0;34m=\u001b[0m\u001b[0;34m-\u001b[0m\u001b[0;36m1\u001b[0m\u001b[0;34m,\u001b[0m \u001b[0mverbose\u001b[0m\u001b[0;34m=\u001b[0m\u001b[0;36m1\u001b[0m\u001b[0;34m)\u001b[0m\u001b[0;34m\u001b[0m\u001b[0;34m\u001b[0m\u001b[0m\n\u001b[0;32m----> 5\u001b[0;31m \u001b[0mtree_search_track_total\u001b[0m\u001b[0;34m.\u001b[0m\u001b[0mfit\u001b[0m\u001b[0;34m(\u001b[0m\u001b[0mX_train_total\u001b[0m\u001b[0;34m,\u001b[0m \u001b[0my_train_total\u001b[0m\u001b[0;34m)\u001b[0m\u001b[0;34m\u001b[0m\u001b[0;34m\u001b[0m\u001b[0m\n\u001b[0m\u001b[1;32m      6\u001b[0m \u001b[0mtree_track_total\u001b[0m \u001b[0;34m=\u001b[0m \u001b[0mtree_search_track_total\u001b[0m\u001b[0;34m.\u001b[0m\u001b[0mbest_estimator_\u001b[0m    \u001b[0;31m# On récupère le \"meilleur\" modèle\u001b[0m\u001b[0;34m\u001b[0m\u001b[0;34m\u001b[0m\u001b[0m\n",
      "\u001b[0;31mNameError\u001b[0m: name 'X_train_total' is not defined"
     ]
    }
   ],
   "source": [
    "parameters = {'max_depth':[4,5,6,7,8,9,10,15], 'min_samples_leaf':range(5,15),\n",
    "              'min_samples_split':range(2,10)}\n",
    "tree_track_total = DecisionTreeClassifier() \n",
    "tree_search_track_total = GridSearchCV(tree_track_total, parameters, scoring='neg_mean_squared_error', cv=10, n_jobs=-1, verbose=1)\n",
    "tree_search_track_total.fit(X_train_total, y_train_total)\n",
    "tree_track_total = tree_search_track_total.best_estimator_    # On récupère le \"meilleur\" modèle"
   ]
  },
  {
   "cell_type": "code",
   "execution_count": 19,
   "metadata": {},
   "outputs": [
    {
     "ename": "NameError",
     "evalue": "name 'X_train' is not defined",
     "output_type": "error",
     "traceback": [
      "\u001b[0;31m---------------------------------------------------------------------------\u001b[0m",
      "\u001b[0;31mNameError\u001b[0m                                 Traceback (most recent call last)",
      "\u001b[0;32m<ipython-input-19-129c033aed44>\u001b[0m in \u001b[0;36m<module>\u001b[0;34m\u001b[0m\n\u001b[1;32m      3\u001b[0m \u001b[0mtree_track\u001b[0m \u001b[0;34m=\u001b[0m \u001b[0mDecisionTreeClassifier\u001b[0m\u001b[0;34m(\u001b[0m\u001b[0;34m)\u001b[0m\u001b[0;34m\u001b[0m\u001b[0;34m\u001b[0m\u001b[0m\n\u001b[1;32m      4\u001b[0m \u001b[0mtree_search_track\u001b[0m \u001b[0;34m=\u001b[0m \u001b[0mGridSearchCV\u001b[0m\u001b[0;34m(\u001b[0m\u001b[0mtree_track\u001b[0m\u001b[0;34m,\u001b[0m \u001b[0mparameters\u001b[0m\u001b[0;34m,\u001b[0m \u001b[0mscoring\u001b[0m\u001b[0;34m=\u001b[0m\u001b[0;34m'neg_mean_squared_error'\u001b[0m\u001b[0;34m,\u001b[0m \u001b[0mcv\u001b[0m\u001b[0;34m=\u001b[0m\u001b[0;36m10\u001b[0m\u001b[0;34m,\u001b[0m \u001b[0mn_jobs\u001b[0m\u001b[0;34m=\u001b[0m\u001b[0;34m-\u001b[0m\u001b[0;36m1\u001b[0m\u001b[0;34m,\u001b[0m \u001b[0mverbose\u001b[0m\u001b[0;34m=\u001b[0m\u001b[0;36m1\u001b[0m\u001b[0;34m)\u001b[0m\u001b[0;34m\u001b[0m\u001b[0;34m\u001b[0m\u001b[0m\n\u001b[0;32m----> 5\u001b[0;31m \u001b[0mtree_search_track\u001b[0m\u001b[0;34m.\u001b[0m\u001b[0mfit\u001b[0m\u001b[0;34m(\u001b[0m\u001b[0mX_train\u001b[0m\u001b[0;34m,\u001b[0m \u001b[0my_train\u001b[0m\u001b[0;34m)\u001b[0m\u001b[0;34m\u001b[0m\u001b[0;34m\u001b[0m\u001b[0m\n\u001b[0m\u001b[1;32m      6\u001b[0m \u001b[0mtree_track\u001b[0m \u001b[0;34m=\u001b[0m \u001b[0mtree_search_track\u001b[0m\u001b[0;34m.\u001b[0m\u001b[0mbest_estimator_\u001b[0m\u001b[0;34m\u001b[0m\u001b[0;34m\u001b[0m\u001b[0m\n",
      "\u001b[0;31mNameError\u001b[0m: name 'X_train' is not defined"
     ]
    }
   ],
   "source": [
    "parameters = {'max_depth':[4,5,6,7,8,9,10,15], 'min_samples_leaf':range(5,15),\n",
    "              'min_samples_split':range(2,10)}\n",
    "tree_track = DecisionTreeClassifier() \n",
    "tree_search_track = GridSearchCV(tree_track, parameters, scoring='neg_mean_squared_error', cv=10, n_jobs=-1, verbose=1)\n",
    "tree_search_track.fit(X_train, y_train)\n",
    "tree_track = tree_search_track.best_estimator_ "
   ]
  },
  {
   "cell_type": "code",
   "execution_count": 20,
   "metadata": {},
   "outputs": [
    {
     "ename": "AttributeError",
     "evalue": "'GridSearchCV' object has no attribute 'best_params_'",
     "output_type": "error",
     "traceback": [
      "\u001b[0;31m---------------------------------------------------------------------------\u001b[0m",
      "\u001b[0;31mAttributeError\u001b[0m                            Traceback (most recent call last)",
      "\u001b[0;32m<ipython-input-20-d7652befee14>\u001b[0m in \u001b[0;36m<module>\u001b[0;34m\u001b[0m\n\u001b[0;32m----> 1\u001b[0;31m \u001b[0mtree_search_track_total\u001b[0m\u001b[0;34m.\u001b[0m\u001b[0mbest_params_\u001b[0m\u001b[0;34m\u001b[0m\u001b[0;34m\u001b[0m\u001b[0m\n\u001b[0m",
      "\u001b[0;31mAttributeError\u001b[0m: 'GridSearchCV' object has no attribute 'best_params_'"
     ]
    }
   ],
   "source": [
    "tree_search_track_total.best_params_ "
   ]
  },
  {
   "cell_type": "code",
   "execution_count": 21,
   "metadata": {},
   "outputs": [
    {
     "ename": "AttributeError",
     "evalue": "'GridSearchCV' object has no attribute 'best_params_'",
     "output_type": "error",
     "traceback": [
      "\u001b[0;31m---------------------------------------------------------------------------\u001b[0m",
      "\u001b[0;31mAttributeError\u001b[0m                            Traceback (most recent call last)",
      "\u001b[0;32m<ipython-input-21-a29c2ff9ee08>\u001b[0m in \u001b[0;36m<module>\u001b[0;34m\u001b[0m\n\u001b[0;32m----> 1\u001b[0;31m \u001b[0mtree_search_track\u001b[0m\u001b[0;34m.\u001b[0m\u001b[0mbest_params_\u001b[0m\u001b[0;34m\u001b[0m\u001b[0;34m\u001b[0m\u001b[0m\n\u001b[0m",
      "\u001b[0;31mAttributeError\u001b[0m: 'GridSearchCV' object has no attribute 'best_params_'"
     ]
    }
   ],
   "source": [
    "tree_search_track.best_params_ "
   ]
  },
  {
   "cell_type": "code",
   "execution_count": 22,
   "metadata": {},
   "outputs": [
    {
     "ename": "NameError",
     "evalue": "name 'y_test_total' is not defined",
     "output_type": "error",
     "traceback": [
      "\u001b[0;31m---------------------------------------------------------------------------\u001b[0m",
      "\u001b[0;31mNameError\u001b[0m                                 Traceback (most recent call last)",
      "\u001b[0;32m<ipython-input-22-d43cc2e8ad33>\u001b[0m in \u001b[0;36m<module>\u001b[0;34m\u001b[0m\n\u001b[0;32m----> 1\u001b[0;31m \u001b[0mprint\u001b[0m\u001b[0;34m(\u001b[0m\u001b[0maccuracy_score\u001b[0m\u001b[0;34m(\u001b[0m\u001b[0my_test_total\u001b[0m\u001b[0;34m,\u001b[0m \u001b[0mtree_track_total\u001b[0m\u001b[0;34m.\u001b[0m\u001b[0mpredict\u001b[0m\u001b[0;34m(\u001b[0m\u001b[0mX_test_total\u001b[0m\u001b[0;34m)\u001b[0m\u001b[0;34m)\u001b[0m\u001b[0;34m)\u001b[0m\u001b[0;34m\u001b[0m\u001b[0;34m\u001b[0m\u001b[0m\n\u001b[0m\u001b[1;32m      2\u001b[0m \u001b[0mprint\u001b[0m\u001b[0;34m(\u001b[0m\u001b[0maccuracy_score\u001b[0m\u001b[0;34m(\u001b[0m\u001b[0my_test\u001b[0m\u001b[0;34m,\u001b[0m \u001b[0mtree_track\u001b[0m\u001b[0;34m.\u001b[0m\u001b[0mpredict\u001b[0m\u001b[0;34m(\u001b[0m\u001b[0mX_test\u001b[0m\u001b[0;34m)\u001b[0m\u001b[0;34m)\u001b[0m\u001b[0;34m)\u001b[0m\u001b[0;34m\u001b[0m\u001b[0;34m\u001b[0m\u001b[0m\n",
      "\u001b[0;31mNameError\u001b[0m: name 'y_test_total' is not defined"
     ]
    }
   ],
   "source": [
    "print(accuracy_score(y_test_total, tree_track_total.predict(X_test_total)))\n",
    "print(accuracy_score(y_test, tree_track.predict(X_test)))"
   ]
  },
  {
   "cell_type": "markdown",
   "metadata": {},
   "source": [
    "#### Random Forest"
   ]
  },
  {
   "cell_type": "code",
   "execution_count": 23,
   "metadata": {},
   "outputs": [
    {
     "ename": "NameError",
     "evalue": "name 'X_train_total' is not defined",
     "output_type": "error",
     "traceback": [
      "\u001b[0;31m---------------------------------------------------------------------------\u001b[0m",
      "\u001b[0;31mNameError\u001b[0m                                 Traceback (most recent call last)",
      "\u001b[0;32m<ipython-input-23-02a6104144b0>\u001b[0m in \u001b[0;36m<module>\u001b[0;34m\u001b[0m\n\u001b[1;32m      2\u001b[0m \u001b[0;34m\u001b[0m\u001b[0m\n\u001b[1;32m      3\u001b[0m \u001b[0mrfc_track_total\u001b[0m \u001b[0;34m=\u001b[0m \u001b[0mRandomForestClassifier\u001b[0m\u001b[0;34m(\u001b[0m\u001b[0;34m)\u001b[0m\u001b[0;34m\u001b[0m\u001b[0;34m\u001b[0m\u001b[0m\n\u001b[0;32m----> 4\u001b[0;31m \u001b[0mrfc_track_total\u001b[0m\u001b[0;34m.\u001b[0m\u001b[0mfit\u001b[0m\u001b[0;34m(\u001b[0m\u001b[0mX_train_total\u001b[0m\u001b[0;34m,\u001b[0m \u001b[0my_train_total\u001b[0m\u001b[0;34m)\u001b[0m\u001b[0;34m\u001b[0m\u001b[0;34m\u001b[0m\u001b[0m\n\u001b[0m",
      "\u001b[0;31mNameError\u001b[0m: name 'X_train_total' is not defined"
     ]
    }
   ],
   "source": [
    "from sklearn.ensemble import RandomForestClassifier\n",
    "\n",
    "rfc_track_total = RandomForestClassifier()\n",
    "rfc_track_total.fit(X_train_total, y_train_total)\n"
   ]
  },
  {
   "cell_type": "code",
   "execution_count": 24,
   "metadata": {},
   "outputs": [
    {
     "ename": "NameError",
     "evalue": "name 'X_train' is not defined",
     "output_type": "error",
     "traceback": [
      "\u001b[0;31m---------------------------------------------------------------------------\u001b[0m",
      "\u001b[0;31mNameError\u001b[0m                                 Traceback (most recent call last)",
      "\u001b[0;32m<ipython-input-24-c50a40a830ff>\u001b[0m in \u001b[0;36m<module>\u001b[0;34m\u001b[0m\n\u001b[1;32m      1\u001b[0m \u001b[0mrfc_track\u001b[0m \u001b[0;34m=\u001b[0m \u001b[0mRandomForestClassifier\u001b[0m\u001b[0;34m(\u001b[0m\u001b[0;34m)\u001b[0m\u001b[0;34m\u001b[0m\u001b[0;34m\u001b[0m\u001b[0m\n\u001b[0;32m----> 2\u001b[0;31m \u001b[0mrfc_track\u001b[0m\u001b[0;34m.\u001b[0m\u001b[0mfit\u001b[0m\u001b[0;34m(\u001b[0m\u001b[0mX_train\u001b[0m\u001b[0;34m,\u001b[0m \u001b[0my_train\u001b[0m\u001b[0;34m)\u001b[0m\u001b[0;34m\u001b[0m\u001b[0;34m\u001b[0m\u001b[0m\n\u001b[0m",
      "\u001b[0;31mNameError\u001b[0m: name 'X_train' is not defined"
     ]
    }
   ],
   "source": [
    "rfc_track = RandomForestClassifier()\n",
    "rfc_track.fit(X_train, y_train)"
   ]
  },
  {
   "cell_type": "code",
   "execution_count": 25,
   "metadata": {},
   "outputs": [
    {
     "ename": "NameError",
     "evalue": "name 'X_train_total' is not defined",
     "output_type": "error",
     "traceback": [
      "\u001b[0;31m---------------------------------------------------------------------------\u001b[0m",
      "\u001b[0;31mNameError\u001b[0m                                 Traceback (most recent call last)",
      "\u001b[0;32m<ipython-input-25-c104bc2767dd>\u001b[0m in \u001b[0;36m<module>\u001b[0;34m\u001b[0m\n\u001b[1;32m      3\u001b[0m \u001b[0mrfc_track_total\u001b[0m \u001b[0;34m=\u001b[0m \u001b[0mRandomForestClassifier\u001b[0m\u001b[0;34m(\u001b[0m\u001b[0;34m)\u001b[0m\u001b[0;34m\u001b[0m\u001b[0;34m\u001b[0m\u001b[0m\n\u001b[1;32m      4\u001b[0m \u001b[0mrf_search_track_total\u001b[0m \u001b[0;34m=\u001b[0m \u001b[0mGridSearchCV\u001b[0m\u001b[0;34m(\u001b[0m\u001b[0mrfc_track_total\u001b[0m\u001b[0;34m,\u001b[0m \u001b[0mparameters\u001b[0m\u001b[0;34m,\u001b[0m \u001b[0mscoring\u001b[0m\u001b[0;34m=\u001b[0m\u001b[0;34m'neg_mean_squared_error'\u001b[0m\u001b[0;34m,\u001b[0m \u001b[0mcv\u001b[0m\u001b[0;34m=\u001b[0m\u001b[0;36m10\u001b[0m\u001b[0;34m,\u001b[0m \u001b[0mn_jobs\u001b[0m\u001b[0;34m=\u001b[0m\u001b[0;34m-\u001b[0m\u001b[0;36m1\u001b[0m\u001b[0;34m,\u001b[0m \u001b[0mverbose\u001b[0m\u001b[0;34m=\u001b[0m\u001b[0;36m1\u001b[0m\u001b[0;34m)\u001b[0m\u001b[0;34m\u001b[0m\u001b[0;34m\u001b[0m\u001b[0m\n\u001b[0;32m----> 5\u001b[0;31m \u001b[0mrf_search_track_total\u001b[0m\u001b[0;34m.\u001b[0m\u001b[0mfit\u001b[0m\u001b[0;34m(\u001b[0m\u001b[0mX_train_total\u001b[0m\u001b[0;34m,\u001b[0m \u001b[0my_train_total\u001b[0m\u001b[0;34m)\u001b[0m\u001b[0;34m\u001b[0m\u001b[0;34m\u001b[0m\u001b[0m\n\u001b[0m\u001b[1;32m      6\u001b[0m \u001b[0mrfc_track_total\u001b[0m \u001b[0;34m=\u001b[0m \u001b[0mrf_search_track_total\u001b[0m\u001b[0;34m.\u001b[0m\u001b[0mbest_estimator_\u001b[0m\u001b[0;34m\u001b[0m\u001b[0;34m\u001b[0m\u001b[0m\n",
      "\u001b[0;31mNameError\u001b[0m: name 'X_train_total' is not defined"
     ]
    }
   ],
   "source": [
    "parameters = {'max_depth':[2,3,4,5,7,8], 'min_samples_leaf':[2,3,4,5,6],\n",
    "              'max_features':[\"auto\"], 'n_estimators':[20,30,40,50]}\n",
    "rfc_track_total = RandomForestClassifier()\n",
    "rf_search_track_total = GridSearchCV(rfc_track_total, parameters, scoring='neg_mean_squared_error', cv=10, n_jobs=-1, verbose=1)\n",
    "rf_search_track_total.fit(X_train_total, y_train_total)\n",
    "rfc_track_total = rf_search_track_total.best_estimator_"
   ]
  },
  {
   "cell_type": "code",
   "execution_count": 26,
   "metadata": {},
   "outputs": [
    {
     "ename": "NameError",
     "evalue": "name 'X_train' is not defined",
     "output_type": "error",
     "traceback": [
      "\u001b[0;31m---------------------------------------------------------------------------\u001b[0m",
      "\u001b[0;31mNameError\u001b[0m                                 Traceback (most recent call last)",
      "\u001b[0;32m<ipython-input-26-7c03ecdb638c>\u001b[0m in \u001b[0;36m<module>\u001b[0;34m\u001b[0m\n\u001b[1;32m      3\u001b[0m \u001b[0mrfc_track\u001b[0m \u001b[0;34m=\u001b[0m \u001b[0mRandomForestClassifier\u001b[0m\u001b[0;34m(\u001b[0m\u001b[0;34m)\u001b[0m\u001b[0;34m\u001b[0m\u001b[0;34m\u001b[0m\u001b[0m\n\u001b[1;32m      4\u001b[0m \u001b[0mrf_search_track\u001b[0m \u001b[0;34m=\u001b[0m \u001b[0mGridSearchCV\u001b[0m\u001b[0;34m(\u001b[0m\u001b[0mrfc_track\u001b[0m\u001b[0;34m,\u001b[0m \u001b[0mparameters\u001b[0m\u001b[0;34m,\u001b[0m \u001b[0mscoring\u001b[0m\u001b[0;34m=\u001b[0m\u001b[0;34m'neg_mean_squared_error'\u001b[0m\u001b[0;34m,\u001b[0m \u001b[0mcv\u001b[0m\u001b[0;34m=\u001b[0m\u001b[0;36m10\u001b[0m\u001b[0;34m,\u001b[0m \u001b[0mn_jobs\u001b[0m\u001b[0;34m=\u001b[0m\u001b[0;34m-\u001b[0m\u001b[0;36m1\u001b[0m\u001b[0;34m,\u001b[0m \u001b[0mverbose\u001b[0m\u001b[0;34m=\u001b[0m\u001b[0;36m1\u001b[0m\u001b[0;34m)\u001b[0m\u001b[0;34m\u001b[0m\u001b[0;34m\u001b[0m\u001b[0m\n\u001b[0;32m----> 5\u001b[0;31m rf_search_track.fit(X_train\n\u001b[0m\u001b[1;32m      6\u001b[0m                     , y_train)\n\u001b[1;32m      7\u001b[0m \u001b[0mrfc_track\u001b[0m \u001b[0;34m=\u001b[0m \u001b[0mrf_search_track\u001b[0m\u001b[0;34m.\u001b[0m\u001b[0mbest_estimator_\u001b[0m\u001b[0;34m\u001b[0m\u001b[0;34m\u001b[0m\u001b[0m\n",
      "\u001b[0;31mNameError\u001b[0m: name 'X_train' is not defined"
     ]
    }
   ],
   "source": [
    "parameters = {'max_depth':[2,3,4,5,7,8], 'min_samples_leaf':[2,3,4,5,6],\n",
    "              'max_features':[\"auto\"], 'n_estimators':[20,30,40,50]}\n",
    "rfc_track = RandomForestClassifier()\n",
    "rf_search_track = GridSearchCV(rfc_track, parameters, scoring='neg_mean_squared_error', cv=10, n_jobs=-1, verbose=1)\n",
    "rf_search_track.fit(X_train\n",
    "                    , y_train)\n",
    "rfc_track = rf_search_track.best_estimator_"
   ]
  },
  {
   "cell_type": "code",
   "execution_count": 27,
   "metadata": {},
   "outputs": [
    {
     "ename": "AttributeError",
     "evalue": "'GridSearchCV' object has no attribute 'best_params_'",
     "output_type": "error",
     "traceback": [
      "\u001b[0;31m---------------------------------------------------------------------------\u001b[0m",
      "\u001b[0;31mAttributeError\u001b[0m                            Traceback (most recent call last)",
      "\u001b[0;32m<ipython-input-27-8fc4de72cfe6>\u001b[0m in \u001b[0;36m<module>\u001b[0;34m\u001b[0m\n\u001b[0;32m----> 1\u001b[0;31m \u001b[0mrf_search_track\u001b[0m\u001b[0;34m.\u001b[0m\u001b[0mbest_params_\u001b[0m\u001b[0;34m\u001b[0m\u001b[0;34m\u001b[0m\u001b[0m\n\u001b[0m\u001b[1;32m      2\u001b[0m \u001b[0;34m\u001b[0m\u001b[0m\n\u001b[1;32m      3\u001b[0m \u001b[0mrf_search_track_total\u001b[0m\u001b[0;34m.\u001b[0m\u001b[0mbest_params_\u001b[0m\u001b[0;34m\u001b[0m\u001b[0;34m\u001b[0m\u001b[0m\n",
      "\u001b[0;31mAttributeError\u001b[0m: 'GridSearchCV' object has no attribute 'best_params_'"
     ]
    }
   ],
   "source": [
    "rf_search_track.best_params_\n",
    "\n",
    "rf_search_track_total.best_params_"
   ]
  },
  {
   "cell_type": "code",
   "execution_count": 28,
   "metadata": {},
   "outputs": [
    {
     "ename": "NameError",
     "evalue": "name 'y_test_total' is not defined",
     "output_type": "error",
     "traceback": [
      "\u001b[0;31m---------------------------------------------------------------------------\u001b[0m",
      "\u001b[0;31mNameError\u001b[0m                                 Traceback (most recent call last)",
      "\u001b[0;32m<ipython-input-28-5d628e642e2b>\u001b[0m in \u001b[0;36m<module>\u001b[0;34m\u001b[0m\n\u001b[0;32m----> 1\u001b[0;31m \u001b[0maccuracy_score\u001b[0m\u001b[0;34m(\u001b[0m\u001b[0my_test_total\u001b[0m\u001b[0;34m,\u001b[0m \u001b[0mrfc_track\u001b[0m\u001b[0;34m.\u001b[0m\u001b[0mpredict\u001b[0m\u001b[0;34m(\u001b[0m\u001b[0mX_test_total\u001b[0m\u001b[0;34m)\u001b[0m\u001b[0;34m)\u001b[0m\u001b[0;34m\u001b[0m\u001b[0;34m\u001b[0m\u001b[0m\n\u001b[0m",
      "\u001b[0;31mNameError\u001b[0m: name 'y_test_total' is not defined"
     ]
    }
   ],
   "source": [
    "accuracy_score(y_test_total, rfc_track.predict(X_test_total))"
   ]
  },
  {
   "cell_type": "code",
   "execution_count": 29,
   "metadata": {},
   "outputs": [
    {
     "ename": "NameError",
     "evalue": "name 'y_test' is not defined",
     "output_type": "error",
     "traceback": [
      "\u001b[0;31m---------------------------------------------------------------------------\u001b[0m",
      "\u001b[0;31mNameError\u001b[0m                                 Traceback (most recent call last)",
      "\u001b[0;32m<ipython-input-29-fe4f9bf61f49>\u001b[0m in \u001b[0;36m<module>\u001b[0;34m\u001b[0m\n\u001b[0;32m----> 1\u001b[0;31m \u001b[0maccuracy_score\u001b[0m\u001b[0;34m(\u001b[0m\u001b[0my_test\u001b[0m\u001b[0;34m,\u001b[0m \u001b[0mrfc_track\u001b[0m\u001b[0;34m.\u001b[0m\u001b[0mpredict\u001b[0m\u001b[0;34m(\u001b[0m\u001b[0mX_test\u001b[0m\u001b[0;34m)\u001b[0m\u001b[0;34m)\u001b[0m\u001b[0;34m\u001b[0m\u001b[0;34m\u001b[0m\u001b[0m\n\u001b[0m",
      "\u001b[0;31mNameError\u001b[0m: name 'y_test' is not defined"
     ]
    }
   ],
   "source": [
    "accuracy_score(y_test, rfc_track.predict(X_test))"
   ]
  },
  {
   "cell_type": "code",
   "execution_count": 30,
   "metadata": {},
   "outputs": [],
   "source": [
    "\n",
    "import torch\n",
    "from torch import nn\n",
    "from torch.autograd import Variable\n",
    "import torchvision.datasets as dsets\n",
    "import torchvision.transforms as transforms\n"
   ]
  },
  {
   "cell_type": "code",
   "execution_count": null,
   "metadata": {},
   "outputs": [],
   "source": []
  },
  {
   "cell_type": "code",
   "execution_count": null,
   "metadata": {},
   "outputs": [],
   "source": []
  },
  {
   "cell_type": "code",
   "execution_count": null,
   "metadata": {},
   "outputs": [],
   "source": []
  },
  {
   "cell_type": "code",
   "execution_count": null,
   "metadata": {},
   "outputs": [],
   "source": []
  },
  {
   "cell_type": "code",
   "execution_count": null,
   "metadata": {},
   "outputs": [],
   "source": []
  },
  {
   "cell_type": "code",
   "execution_count": null,
   "metadata": {},
   "outputs": [],
   "source": []
  },
  {
   "cell_type": "code",
   "execution_count": null,
   "metadata": {},
   "outputs": [],
   "source": []
  },
  {
   "cell_type": "code",
   "execution_count": null,
   "metadata": {},
   "outputs": [],
   "source": []
  },
  {
   "cell_type": "code",
   "execution_count": null,
   "metadata": {},
   "outputs": [],
   "source": []
  },
  {
   "cell_type": "code",
   "execution_count": null,
   "metadata": {},
   "outputs": [],
   "source": []
  },
  {
   "cell_type": "code",
   "execution_count": null,
   "metadata": {},
   "outputs": [],
   "source": []
  },
  {
   "cell_type": "code",
   "execution_count": null,
   "metadata": {},
   "outputs": [],
   "source": []
  },
  {
   "cell_type": "code",
   "execution_count": null,
   "metadata": {},
   "outputs": [],
   "source": []
  },
  {
   "cell_type": "code",
   "execution_count": null,
   "metadata": {},
   "outputs": [],
   "source": []
  },
  {
   "cell_type": "code",
   "execution_count": null,
   "metadata": {},
   "outputs": [],
   "source": []
  },
  {
   "cell_type": "code",
   "execution_count": null,
   "metadata": {},
   "outputs": [],
   "source": []
  },
  {
   "cell_type": "code",
   "execution_count": null,
   "metadata": {},
   "outputs": [],
   "source": []
  },
  {
   "cell_type": "code",
   "execution_count": null,
   "metadata": {},
   "outputs": [],
   "source": []
  },
  {
   "cell_type": "code",
   "execution_count": null,
   "metadata": {},
   "outputs": [],
   "source": []
  },
  {
   "cell_type": "code",
   "execution_count": null,
   "metadata": {},
   "outputs": [],
   "source": []
  },
  {
   "cell_type": "code",
   "execution_count": null,
   "metadata": {},
   "outputs": [],
   "source": []
  },
  {
   "cell_type": "code",
   "execution_count": null,
   "metadata": {},
   "outputs": [],
   "source": []
  },
  {
   "cell_type": "code",
   "execution_count": null,
   "metadata": {},
   "outputs": [],
   "source": []
  },
  {
   "cell_type": "code",
   "execution_count": null,
   "metadata": {},
   "outputs": [],
   "source": []
  },
  {
   "cell_type": "code",
   "execution_count": null,
   "metadata": {},
   "outputs": [],
   "source": []
  },
  {
   "cell_type": "code",
   "execution_count": null,
   "metadata": {},
   "outputs": [],
   "source": []
  },
  {
   "cell_type": "code",
   "execution_count": null,
   "metadata": {},
   "outputs": [],
   "source": []
  },
  {
   "cell_type": "code",
   "execution_count": null,
   "metadata": {},
   "outputs": [],
   "source": []
  },
  {
   "cell_type": "code",
   "execution_count": null,
   "metadata": {},
   "outputs": [],
   "source": []
  },
  {
   "cell_type": "code",
   "execution_count": null,
   "metadata": {},
   "outputs": [],
   "source": []
  },
  {
   "cell_type": "code",
   "execution_count": null,
   "metadata": {},
   "outputs": [],
   "source": []
  },
  {
   "cell_type": "code",
   "execution_count": null,
   "metadata": {},
   "outputs": [],
   "source": []
  },
  {
   "cell_type": "code",
   "execution_count": null,
   "metadata": {},
   "outputs": [],
   "source": []
  },
  {
   "cell_type": "code",
   "execution_count": null,
   "metadata": {},
   "outputs": [],
   "source": []
  },
  {
   "cell_type": "code",
   "execution_count": null,
   "metadata": {},
   "outputs": [],
   "source": []
  },
  {
   "cell_type": "code",
   "execution_count": null,
   "metadata": {},
   "outputs": [],
   "source": []
  },
  {
   "cell_type": "code",
   "execution_count": null,
   "metadata": {},
   "outputs": [],
   "source": []
  },
  {
   "cell_type": "code",
   "execution_count": null,
   "metadata": {},
   "outputs": [],
   "source": []
  },
  {
   "cell_type": "code",
   "execution_count": null,
   "metadata": {},
   "outputs": [],
   "source": []
  },
  {
   "cell_type": "code",
   "execution_count": null,
   "metadata": {},
   "outputs": [],
   "source": []
  },
  {
   "cell_type": "code",
   "execution_count": null,
   "metadata": {},
   "outputs": [],
   "source": []
  },
  {
   "cell_type": "code",
   "execution_count": null,
   "metadata": {},
   "outputs": [],
   "source": []
  },
  {
   "cell_type": "code",
   "execution_count": null,
   "metadata": {},
   "outputs": [],
   "source": []
  },
  {
   "cell_type": "code",
   "execution_count": null,
   "metadata": {},
   "outputs": [],
   "source": []
  },
  {
   "cell_type": "code",
   "execution_count": null,
   "metadata": {},
   "outputs": [],
   "source": []
  },
  {
   "cell_type": "code",
   "execution_count": null,
   "metadata": {},
   "outputs": [],
   "source": []
  },
  {
   "cell_type": "code",
   "execution_count": null,
   "metadata": {},
   "outputs": [],
   "source": []
  },
  {
   "cell_type": "code",
   "execution_count": null,
   "metadata": {},
   "outputs": [],
   "source": []
  },
  {
   "cell_type": "code",
   "execution_count": null,
   "metadata": {},
   "outputs": [],
   "source": []
  },
  {
   "cell_type": "code",
   "execution_count": null,
   "metadata": {},
   "outputs": [],
   "source": []
  },
  {
   "cell_type": "code",
   "execution_count": null,
   "metadata": {},
   "outputs": [],
   "source": []
  },
  {
   "cell_type": "code",
   "execution_count": null,
   "metadata": {},
   "outputs": [],
   "source": []
  },
  {
   "cell_type": "code",
   "execution_count": null,
   "metadata": {},
   "outputs": [],
   "source": []
  },
  {
   "cell_type": "code",
   "execution_count": null,
   "metadata": {},
   "outputs": [],
   "source": []
  },
  {
   "cell_type": "code",
   "execution_count": null,
   "metadata": {},
   "outputs": [],
   "source": []
  },
  {
   "cell_type": "code",
   "execution_count": null,
   "metadata": {},
   "outputs": [],
   "source": []
  },
  {
   "cell_type": "code",
   "execution_count": null,
   "metadata": {},
   "outputs": [],
   "source": []
  },
  {
   "cell_type": "code",
   "execution_count": null,
   "metadata": {},
   "outputs": [],
   "source": []
  },
  {
   "cell_type": "code",
   "execution_count": null,
   "metadata": {},
   "outputs": [],
   "source": []
  },
  {
   "cell_type": "code",
   "execution_count": null,
   "metadata": {},
   "outputs": [],
   "source": []
  },
  {
   "cell_type": "code",
   "execution_count": null,
   "metadata": {},
   "outputs": [],
   "source": []
  },
  {
   "cell_type": "code",
   "execution_count": null,
   "metadata": {},
   "outputs": [],
   "source": []
  },
  {
   "cell_type": "code",
   "execution_count": null,
   "metadata": {},
   "outputs": [],
   "source": []
  },
  {
   "cell_type": "code",
   "execution_count": null,
   "metadata": {},
   "outputs": [],
   "source": []
  },
  {
   "cell_type": "code",
   "execution_count": null,
   "metadata": {},
   "outputs": [],
   "source": []
  },
  {
   "cell_type": "code",
   "execution_count": null,
   "metadata": {},
   "outputs": [],
   "source": []
  },
  {
   "cell_type": "code",
   "execution_count": null,
   "metadata": {},
   "outputs": [],
   "source": []
  },
  {
   "cell_type": "code",
   "execution_count": null,
   "metadata": {},
   "outputs": [],
   "source": []
  },
  {
   "cell_type": "code",
   "execution_count": null,
   "metadata": {},
   "outputs": [],
   "source": []
  },
  {
   "cell_type": "code",
   "execution_count": null,
   "metadata": {},
   "outputs": [],
   "source": []
  },
  {
   "cell_type": "code",
   "execution_count": null,
   "metadata": {},
   "outputs": [],
   "source": []
  },
  {
   "cell_type": "code",
   "execution_count": null,
   "metadata": {},
   "outputs": [],
   "source": []
  },
  {
   "cell_type": "code",
   "execution_count": null,
   "metadata": {},
   "outputs": [],
   "source": []
  },
  {
   "cell_type": "code",
   "execution_count": null,
   "metadata": {},
   "outputs": [],
   "source": []
  },
  {
   "cell_type": "code",
   "execution_count": null,
   "metadata": {},
   "outputs": [],
   "source": []
  },
  {
   "cell_type": "code",
   "execution_count": null,
   "metadata": {},
   "outputs": [],
   "source": []
  },
  {
   "cell_type": "code",
   "execution_count": null,
   "metadata": {},
   "outputs": [],
   "source": []
  },
  {
   "cell_type": "code",
   "execution_count": null,
   "metadata": {},
   "outputs": [],
   "source": []
  },
  {
   "cell_type": "code",
   "execution_count": null,
   "metadata": {},
   "outputs": [],
   "source": []
  },
  {
   "cell_type": "code",
   "execution_count": null,
   "metadata": {},
   "outputs": [],
   "source": []
  },
  {
   "cell_type": "code",
   "execution_count": null,
   "metadata": {},
   "outputs": [],
   "source": []
  },
  {
   "cell_type": "code",
   "execution_count": null,
   "metadata": {},
   "outputs": [],
   "source": []
  },
  {
   "cell_type": "code",
   "execution_count": null,
   "metadata": {},
   "outputs": [],
   "source": []
  },
  {
   "cell_type": "code",
   "execution_count": null,
   "metadata": {},
   "outputs": [],
   "source": []
  },
  {
   "cell_type": "code",
   "execution_count": null,
   "metadata": {},
   "outputs": [],
   "source": []
  },
  {
   "cell_type": "code",
   "execution_count": null,
   "metadata": {},
   "outputs": [],
   "source": []
  },
  {
   "cell_type": "code",
   "execution_count": null,
   "metadata": {},
   "outputs": [],
   "source": []
  },
  {
   "cell_type": "code",
   "execution_count": null,
   "metadata": {},
   "outputs": [],
   "source": []
  },
  {
   "cell_type": "code",
   "execution_count": null,
   "metadata": {},
   "outputs": [],
   "source": []
  },
  {
   "cell_type": "code",
   "execution_count": null,
   "metadata": {},
   "outputs": [],
   "source": []
  },
  {
   "cell_type": "code",
   "execution_count": null,
   "metadata": {},
   "outputs": [],
   "source": []
  },
  {
   "cell_type": "code",
   "execution_count": null,
   "metadata": {},
   "outputs": [],
   "source": []
  },
  {
   "cell_type": "code",
   "execution_count": null,
   "metadata": {},
   "outputs": [],
   "source": []
  },
  {
   "cell_type": "code",
   "execution_count": null,
   "metadata": {},
   "outputs": [],
   "source": []
  },
  {
   "cell_type": "code",
   "execution_count": null,
   "metadata": {},
   "outputs": [],
   "source": []
  },
  {
   "cell_type": "code",
   "execution_count": null,
   "metadata": {},
   "outputs": [],
   "source": []
  },
  {
   "cell_type": "code",
   "execution_count": null,
   "metadata": {},
   "outputs": [],
   "source": []
  },
  {
   "cell_type": "code",
   "execution_count": null,
   "metadata": {},
   "outputs": [],
   "source": []
  },
  {
   "cell_type": "code",
   "execution_count": null,
   "metadata": {},
   "outputs": [],
   "source": []
  },
  {
   "cell_type": "code",
   "execution_count": null,
   "metadata": {},
   "outputs": [],
   "source": []
  },
  {
   "cell_type": "code",
   "execution_count": null,
   "metadata": {},
   "outputs": [],
   "source": []
  },
  {
   "cell_type": "code",
   "execution_count": null,
   "metadata": {},
   "outputs": [],
   "source": []
  },
  {
   "cell_type": "code",
   "execution_count": null,
   "metadata": {},
   "outputs": [],
   "source": []
  },
  {
   "cell_type": "code",
   "execution_count": null,
   "metadata": {},
   "outputs": [],
   "source": []
  },
  {
   "cell_type": "code",
   "execution_count": null,
   "metadata": {},
   "outputs": [],
   "source": []
  },
  {
   "cell_type": "code",
   "execution_count": null,
   "metadata": {},
   "outputs": [],
   "source": []
  },
  {
   "cell_type": "code",
   "execution_count": null,
   "metadata": {},
   "outputs": [],
   "source": []
  },
  {
   "cell_type": "code",
   "execution_count": null,
   "metadata": {},
   "outputs": [],
   "source": []
  },
  {
   "cell_type": "code",
   "execution_count": null,
   "metadata": {},
   "outputs": [],
   "source": []
  },
  {
   "cell_type": "code",
   "execution_count": null,
   "metadata": {},
   "outputs": [],
   "source": []
  },
  {
   "cell_type": "code",
   "execution_count": null,
   "metadata": {},
   "outputs": [],
   "source": []
  },
  {
   "cell_type": "code",
   "execution_count": null,
   "metadata": {},
   "outputs": [],
   "source": []
  }
 ],
 "metadata": {
  "kernelspec": {
   "display_name": "Python 3",
   "language": "python",
   "name": "python3"
  },
  "language_info": {
   "codemirror_mode": {
    "name": "ipython",
    "version": 3
   },
   "file_extension": ".py",
   "mimetype": "text/x-python",
   "name": "python",
   "nbconvert_exporter": "python",
   "pygments_lexer": "ipython3",
   "version": "3.6.12"
  }
 },
 "nbformat": 4,
 "nbformat_minor": 4
}
